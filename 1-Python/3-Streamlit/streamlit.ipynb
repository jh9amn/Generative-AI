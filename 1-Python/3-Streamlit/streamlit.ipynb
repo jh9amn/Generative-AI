{
 "cells": [
  {
   "cell_type": "markdown",
   "id": "67040ff3",
   "metadata": {},
   "source": [
    "# 📌 Introduction to Streamlit\n",
    "\n",
    "**Streamlit** is an open-source app framework widely used for **Machine Learning (ML)** and **Data Science (DS)** projects.  \n",
    "\n",
    "✨ With just simple Python scripts, it allows developers and data scientists to build **beautiful, interactive, and shareable web applications** effortlessly.  \n",
    "\n",
    "---\n",
    "\n",
    "### 🚀 Key Highlights\n",
    "- Open-source and community-driven  \n",
    "- Minimal coding required (pure Python)  \n",
    "- Ideal for ML & DS project visualization  \n",
    "- Generates interactive web apps quickly  \n",
    "\n",
    "---\n",
    "\n",
    "Check Official Website: **```https://streamlit.io/```**\n",
    "\n",
    "To Run:\n",
    "> streamlit run classification.py \n",
    "\n"
   ]
  }
 ],
 "metadata": {
  "kernelspec": {
   "display_name": "Python 3",
   "language": "python",
   "name": "python3"
  },
  "language_info": {
   "name": "python",
   "version": "3.12.0"
  }
 },
 "nbformat": 4,
 "nbformat_minor": 5
}
