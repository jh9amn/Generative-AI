{
 "cells": [
  {
   "cell_type": "markdown",
   "id": "3d3416e6",
   "metadata": {},
   "source": [
    "### ```Inheritance In Python```\n",
    "- Inheritance is a fundamental concept in Object-Oriented Programming (OOP) that allows a class to inherit attributes and methods from another class. \n",
    "- This lesson covers single inheritance and multiple inheritance, demonstrating how to create and use them in Pyhton. "
   ]
  },
  {
   "cell_type": "code",
   "execution_count": 2,
   "id": "14569069",
   "metadata": {},
   "outputs": [],
   "source": [
    "## Inheritance\n",
    "## Parent class\n",
    "class Car:\n",
    "    def __init__(self, windows, doors, engineType):\n",
    "        self.windows = windows\n",
    "        self.doors = doors\n",
    "        self.engineType = engineType\n",
    "    \n",
    "    def drive(self):\n",
    "        print(f\"I am driving the {self.engineType} car.\")\n",
    "    \n"
   ]
  },
  {
   "cell_type": "code",
   "execution_count": 4,
   "id": "ba8f538a",
   "metadata": {},
   "outputs": [
    {
     "name": "stdout",
     "output_type": "stream",
     "text": [
      "I am driving the petrol car.\n"
     ]
    }
   ],
   "source": [
    "car1 = Car(4, 5, \"petrol\")\n",
    "car1.drive()"
   ]
  },
  {
   "cell_type": "markdown",
   "id": "33ee71e1",
   "metadata": {},
   "source": [
    "## 🧬 Inherit Parent Class\n",
    "#### ```Single Inheritance```\n",
    "\n",
    "---\n",
    "\n",
    "### 🔑 What `super()` Does  \n",
    "\n",
    "- `super()` gives you access to **methods and properties** of the **parent class** (superclass).  \n",
    "- It’s most often used in the **child class constructor (`__init__`)** to call the parent class constructor.  \n",
    "- This way, the child class **inherits all the setup logic** from the parent without rewriting code.  \n",
    "\n",
    "---\n",
    "\n",
    "✅ **In short:**  \n",
    "`super()` = \"Run the parent’s version of this method before (or along with) the child’s logic.\"\n"
   ]
  },
  {
   "cell_type": "code",
   "execution_count": 12,
   "id": "e4a0f2ec",
   "metadata": {},
   "outputs": [],
   "source": [
    "# Child class Tesla inheriting from parent class Car\n",
    "class Tesla(Car):   \n",
    "    def __init__(self, windows, doors, engineType, is_self_Driving):\n",
    "        ## Call the constructor of the parent class (Car) \n",
    "        ## so Tesla automatically gets windows, doors, engineType\n",
    "        super().__init__(windows, doors, engineType)\n",
    "        self.is_self_Driving = is_self_Driving\n",
    "    \n",
    "    def selfDriving(self):\n",
    "        print(f\"Tesla Suppot self driving: {self.is_self_Driving}\")"
   ]
  },
  {
   "cell_type": "code",
   "execution_count": 14,
   "id": "6018a612",
   "metadata": {},
   "outputs": [
    {
     "name": "stdout",
     "output_type": "stream",
     "text": [
      "Tesla Suppot self driving: True\n",
      "I am driving the Electric car.\n"
     ]
    }
   ],
   "source": [
    "tesla1 = Tesla(4,5,\"Electric\", True)\n",
    "tesla1.selfDriving()\n",
    "tesla1.drive()\n"
   ]
  },
  {
   "cell_type": "markdown",
   "id": "656ef32f",
   "metadata": {},
   "source": [
    "#### ```Multiple Inheritance```\n",
    "- When a class inherits from more than one base class."
   ]
  },
  {
   "cell_type": "code",
   "execution_count": 18,
   "id": "7c563c4a",
   "metadata": {},
   "outputs": [
    {
     "name": "stdout",
     "output_type": "stream",
     "text": [
      "Buddy say woof.\n",
      "Buddy\n",
      "Owner: Aman\n"
     ]
    }
   ],
   "source": [
    "## Base Class 1:\n",
    "class Animal:\n",
    "    def __init__(self, name):\n",
    "        self.name = name\n",
    "    \n",
    "    def speak(self):\n",
    "        print(\"Subclass must implement this method\")\n",
    "        \n",
    "## Base Class 2:\n",
    "class Pet:\n",
    "    def __init__(self, owner):\n",
    "        self.owner = owner\n",
    "\n",
    "\n",
    "## Derived Class (inherits from BOTH Animal and Pet)\n",
    "class Dog(Animal, Pet):\n",
    "    def __init__(self, name, owner):\n",
    "        # Here we have two parent classes, so we can’t use super()\n",
    "        # Instead, we call each parent constructor explicitly\n",
    "        Animal.__init__(self, name)     # Initialize Animal part\n",
    "        Pet.__init__(self, owner)       # Initialize Pet part\n",
    "        \n",
    "    def speak(self):\n",
    "        return f\"{self.name} say woof.\"\n",
    "\n",
    "## Creating an Object\n",
    "dog = Dog(\"Buddy\", \"Aman\")\n",
    "\n",
    "# Call the overridden method\n",
    "print(dog.speak())           # Buddy says Woof!\n",
    "\n",
    "# Access attributes from both parents\n",
    "print(dog.name)              # From Animal\n",
    "print(f'Owner: {dog.owner}')             # From Pet\n",
    "        "
   ]
  }
 ],
 "metadata": {
  "kernelspec": {
   "display_name": "Python 3",
   "language": "python",
   "name": "python3"
  },
  "language_info": {
   "codemirror_mode": {
    "name": "ipython",
    "version": 3
   },
   "file_extension": ".py",
   "mimetype": "text/x-python",
   "name": "python",
   "nbconvert_exporter": "python",
   "pygments_lexer": "ipython3",
   "version": "3.12.0"
  }
 },
 "nbformat": 4,
 "nbformat_minor": 5
}
