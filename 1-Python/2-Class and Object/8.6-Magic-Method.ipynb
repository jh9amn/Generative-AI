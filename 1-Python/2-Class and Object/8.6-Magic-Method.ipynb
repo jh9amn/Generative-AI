{
 "cells": [
  {
   "cell_type": "markdown",
   "id": "e3b9e168",
   "metadata": {},
   "source": [
    "# ✨ Magic Methods in Python\n",
    "\n",
    "Magic methods in Python, also known as **\"Dunder Methods\"** (double underscore methods),  \n",
    "are special methods that **start and end with double underscores (`__`)**.  \n",
    "\n",
    "They allow us to define or customize the **behavior of objects** for built-in operations like:\n",
    "- Arithmetic (`+`, `-`, `*`, …)\n",
    "- Comparisons (`==`, `<`, …)\n",
    "- String representation\n",
    "- Object initialization\n",
    "- Container behavior (`len`, indexing, …)\n",
    "\n",
    "---\n",
    "\n",
    "## 🔑 Key Points\n",
    "- Magic methods are **predefined** in Python.\n",
    "- We can **override** them in our classes to change how objects behave.\n",
    "- They make classes act more like **built-in types**.\n",
    "\n",
    "---\n",
    "\n",
    "## 📌 Common Magic Methods\n",
    "\n",
    "| Magic Method   | Description |\n",
    "|----------------|-------------|\n",
    "| `__init__`     | Initializes a new instance of a class (constructor). |\n",
    "| `__str__`      | Returns a **human-readable string** representation of the object. |\n",
    "| `__repr__`     | Returns the **official string representation** (mainly for debugging). |\n",
    "| `__len__`      | Returns the length of an object. |\n",
    "| `__getitem__`  | Gets an item from a container using index/key. |\n",
    "| `__setitem__`  | Sets an item in a container using index/key. |\n",
    "| `__add__`      | Defines behavior for the `+` operator. |\n",
    "| `__eq__`       | Defines behavior for the `==` operator. |\n",
    "\n",
    "---"
   ]
  },
  {
   "cell_type": "code",
   "execution_count": 1,
   "id": "2e18d6b8",
   "metadata": {},
   "outputs": [
    {
     "data": {
      "text/plain": [
       "['__class__',\n",
       " '__delattr__',\n",
       " '__dict__',\n",
       " '__dir__',\n",
       " '__doc__',\n",
       " '__eq__',\n",
       " '__format__',\n",
       " '__ge__',\n",
       " '__getattribute__',\n",
       " '__getstate__',\n",
       " '__gt__',\n",
       " '__hash__',\n",
       " '__init__',\n",
       " '__init_subclass__',\n",
       " '__le__',\n",
       " '__lt__',\n",
       " '__module__',\n",
       " '__ne__',\n",
       " '__new__',\n",
       " '__reduce__',\n",
       " '__reduce_ex__',\n",
       " '__repr__',\n",
       " '__setattr__',\n",
       " '__sizeof__',\n",
       " '__str__',\n",
       " '__subclasshook__',\n",
       " '__weakref__']"
      ]
     },
     "execution_count": 1,
     "metadata": {},
     "output_type": "execute_result"
    }
   ],
   "source": [
    "class Person:\n",
    "    pass\n",
    "\n",
    "person = Person()\n",
    "\n",
    "dir(person)"
   ]
  },
  {
   "cell_type": "markdown",
   "id": "2ea025c2",
   "metadata": {},
   "source": [
    "#### Above all are called `Megic Method`"
   ]
  },
  {
   "cell_type": "code",
   "execution_count": null,
   "id": "572f1c08",
   "metadata": {},
   "outputs": [
    {
     "name": "stdout",
     "output_type": "stream",
     "text": [
      "<__main__.Person object at 0x00000194EAB56FF0>\n"
     ]
    }
   ],
   "source": [
    "print(person)       ## '__str__', here this is working as magic method"
   ]
  },
  {
   "cell_type": "code",
   "execution_count": 3,
   "id": "5155af7a",
   "metadata": {},
   "outputs": [
    {
     "name": "stdout",
     "output_type": "stream",
     "text": [
      "<__main__.Person object at 0x00000194EAB88080>\n"
     ]
    }
   ],
   "source": [
    "class Person:\n",
    "    def __init__(self, name, age):\n",
    "        self.name = name\n",
    "        self.age = age\n",
    "        \n",
    "person = Person(\"Amab\",24)\n",
    "print(person)"
   ]
  },
  {
   "cell_type": "code",
   "execution_count": null,
   "id": "8fb2beb4",
   "metadata": {},
   "outputs": [
    {
     "name": "stdout",
     "output_type": "stream",
     "text": [
      "Aman, 24 years old.\n",
      "Person (name = Aman, age = 24)\n"
     ]
    }
   ],
   "source": [
    "class Person:\n",
    "    def __init__(self, name, age):\n",
    "        self.name = name\n",
    "        self.age = age\n",
    "    \n",
    "    ## Override the maigc method\n",
    "    ## Now default message come from this __str__() method    \n",
    "    def __str__(self):\n",
    "        return f\"{self.name}, {self.age} years old.\"\n",
    "    \n",
    "    ## Override the magic method\n",
    "    def __repr__(self):\n",
    "        return f\"Person (name = {self.name}, age = {self.age})\"\n",
    "        \n",
    "person = Person(\"Aman\",24)\n",
    "print(person)\n",
    "print(repr(person))"
   ]
  }
 ],
 "metadata": {
  "kernelspec": {
   "display_name": "Python 3",
   "language": "python",
   "name": "python3"
  },
  "language_info": {
   "codemirror_mode": {
    "name": "ipython",
    "version": 3
   },
   "file_extension": ".py",
   "mimetype": "text/x-python",
   "name": "python",
   "nbconvert_exporter": "python",
   "pygments_lexer": "ipython3",
   "version": "3.12.0"
  }
 },
 "nbformat": 4,
 "nbformat_minor": 5
}
