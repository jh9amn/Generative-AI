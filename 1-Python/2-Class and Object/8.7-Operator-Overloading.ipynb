{
 "cells": [
  {
   "cell_type": "markdown",
   "id": "300165a9",
   "metadata": {},
   "source": [
    "# ⚡ Operator Overloading in Python\n",
    "\n",
    "Operator overloading allows us to **redefine how operators (`+`, `-`, `*`, `/`, `==`, etc.) work for custom objects**.  \n",
    "This is achieved by **overriding special \"magic methods\" (dunder methods)** in a class.\n",
    "\n",
    "👉 In simple words: **We can make objects of our class behave like built-in types.**\n",
    "\n",
    "---\n",
    "\n",
    "## 🔑 Why Operator Overloading?\n",
    "- Makes classes behave naturally with operators.\n",
    "- Improves readability (e.g., `p1 + p2` is more intuitive than `p1.add(p2)`).\n",
    "- Provides flexibility for custom data structures (like vectors, matrices, fractions, etc.).\n",
    "\n",
    "---\n",
    "\n",
    "## 🎯 Common Operator Overloading Magic Methods\n",
    "\n",
    "| Magic Method         | Operator | Description |\n",
    "|----------------------|----------|-------------|\n",
    "| `__add__(self, other)`     | `+`  | Defines addition of two objects |\n",
    "| `__sub__(self, other)`     | `-`  | Defines subtraction of two objects |\n",
    "| `__mul__(self, other)`     | `*`  | Defines multiplication |\n",
    "| `__truediv__(self, other)` | `/`  | Defines true division |\n",
    "| `__floordiv__(self, other)`| `//` | Defines floor division |\n",
    "| `__mod__(self, other)`     | `%`  | Defines modulus |\n",
    "| `__pow__(self, other)`     | `**` | Defines exponentiation |\n",
    "| `__eq__(self, other)`      | `==` | Checks equality |\n",
    "| `__lt__(self, other)`      | `<`  | Less than comparison |\n",
    "| `__gt__(self, other)`      | `>`  | Greater than comparison |\n",
    "\n",
    "---\n"
   ]
  },
  {
   "cell_type": "code",
   "execution_count": null,
   "id": "ebe781fe",
   "metadata": {},
   "outputs": [
    {
     "name": "stdout",
     "output_type": "stream",
     "text": [
      "Vector(7, 9)\n",
      "Vector(-1, -1)\n",
      "Vector(12, 20)\n"
     ]
    }
   ],
   "source": [
    "## Mathematic operation for Vector\n",
    "class Vector:\n",
    "    def __init__(self, x, y):\n",
    "        self.x = x\n",
    "        self.y = y\n",
    "    \n",
    "    # Overloading +\n",
    "    def __add__(self, other):\n",
    "        return Vector(self.x + other.x, self.y + other.y)\n",
    "    \n",
    "    # Overloading -\n",
    "    def __sub__(self, other):\n",
    "        return Vector(self.x - other.x, self.y - other.y)\n",
    "    \n",
    "    # Overloading *\n",
    "    def __mul__(self, other):\n",
    "        return Vector(self.x * other.x, self.y * other.y)\n",
    "    \n",
    "    # Overloading ==\n",
    "    def __eq__(self, other):\n",
    "        return Vector(self.x == other.x, self.y == other.y)\n",
    "    \n",
    "    def __repr__(self):\n",
    "        return f\"Vector({self.x}, {self.y})\"\n",
    "    \n",
    "## Create object of Vector\n",
    "v1 = Vector(3,4)\n",
    "v2 = Vector(4,5)\n",
    "\n",
    "print(v1+v2)\n",
    "print(v1-v2)\n",
    "print(v1*v2)"
   ]
  },
  {
   "cell_type": "code",
   "execution_count": 16,
   "id": "880751bd",
   "metadata": {},
   "outputs": [
    {
     "name": "stdout",
     "output_type": "stream",
     "text": [
      "12 / 12\n",
      "True\n",
      "2 / 3\n",
      "4 / 6\n"
     ]
    }
   ],
   "source": [
    "## Fraction\n",
    "class Fraction:\n",
    "    def __init__(self, numerator, denominator):\n",
    "        self.numerator = numerator\n",
    "        self.denominator = denominator\n",
    "    \n",
    "    # Overloading /\n",
    "    def __truediv__(self, other):\n",
    "        return Fraction(self.numerator * other.denominator, self.denominator * other.numerator)\n",
    "    \n",
    "    # Overloading ==\n",
    "    def __eq__(self, other):\n",
    "        return self.numerator * other.denominator == self.denominator * other.numerator\n",
    "    \n",
    "    # Overloading \n",
    "    def __str__(self):\n",
    "        return f\"{self.numerator} / {self.denominator}\"\n",
    "    \n",
    "f1 = Fraction(2, 3)      ## 2 / 3\n",
    "f2 = Fraction(4, 6)      ## 4 / 6\n",
    "\n",
    "print(f1 / f2)\n",
    "print(f1 == f2)\n",
    "print(f1)       ## 2 / 3\n",
    "print(f2)       ## 4 / 6\n"
   ]
  },
  {
   "cell_type": "code",
   "execution_count": 19,
   "id": "3a740b59",
   "metadata": {},
   "outputs": [
    {
     "name": "stdout",
     "output_type": "stream",
     "text": [
      "3 + 7\n",
      "1 + -1\n",
      "-10 + 11\n",
      "0.8235294117647058 + -0.29411764705882354\n",
      "False\n"
     ]
    }
   ],
   "source": [
    "## Overloading Operators for Complex Numbers\n",
    "class ComplexNumber:\n",
    "    def __init__(self, real, img):\n",
    "        self.real = real\n",
    "        self.img = img\n",
    "        \n",
    "    def __add__(self, other):\n",
    "        return ComplexNumber(self.real + other.real, self.img + other.img)\n",
    "    \n",
    "    def __sub__(self, other):\n",
    "        return ComplexNumber(self.real - other.real, self.img - other.img)\n",
    "    \n",
    "    def __mul__(self, other):\n",
    "        real_part = self.real * other.real - self.img * other.img\n",
    "        img_part = self.real * other.img + self.img * other.real\n",
    "        return ComplexNumber(real_part, img_part)\n",
    "\n",
    "    def __truediv__(self, other):\n",
    "        denominator = other.real**2 + other.img**2\n",
    "        real_part = (self.real * other.real + self.img * other.img) / denominator\n",
    "        img_part = (self.img * other.real - self.real * other.img) / denominator\n",
    "        return ComplexNumber(real_part, img_part)\n",
    "    \n",
    "    def __eq__(self, other):\n",
    "        return self.real == other.real and self.img == other.img\n",
    "    \n",
    "    def __repr__(self):\n",
    "        return f\"{self.real} + {self.img}\"\n",
    "    \n",
    "    \n",
    "    ## Create objects ot the Complext class\n",
    "    c1 = ComplexNumber(2, 3)\n",
    "    c2 = ComplexNumber(1, 4)\n",
    "    \n",
    "    print(c1 + c2)\n",
    "    print(c1 - c2)\n",
    "    print(c1 * c2)\n",
    "    print(c1 / c2)\n",
    "    print(c1 == c2)     "
   ]
  }
 ],
 "metadata": {
  "kernelspec": {
   "display_name": "Python 3",
   "language": "python",
   "name": "python3"
  },
  "language_info": {
   "codemirror_mode": {
    "name": "ipython",
    "version": 3
   },
   "file_extension": ".py",
   "mimetype": "text/x-python",
   "name": "python",
   "nbconvert_exporter": "python",
   "pygments_lexer": "ipython3",
   "version": "3.12.0"
  }
 },
 "nbformat": 4,
 "nbformat_minor": 5
}
