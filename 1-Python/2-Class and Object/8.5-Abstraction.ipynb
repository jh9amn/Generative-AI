{
 "cells": [
  {
   "cell_type": "markdown",
   "id": "a4ce682f",
   "metadata": {},
   "source": [
    "#### ```Abstraction:```\n",
    "Abstraction is the concept of hiding the complex implementation details and showing only the necessary features of an object. This helps in reducing programming complexity and effort.\n",
    "\n",
    "Abstraction is one of the **four pillars of OOP**.  \n",
    "It refers to the process of **hiding implementation details** and showing only the **essential features** of an object.  \n",
    "\n",
    "In simple terms: **\"What an object does, rather than how it does it.\"**\n",
    "\n",
    "---\n",
    "\n",
    "#### 🔑 ```Key Points```\n",
    "- Abstraction focuses on **hiding the internal implementation** and exposing only necessary functionality.\n",
    "- Achieved using:\n",
    "  - **Abstract classes**\n",
    "  - **Interfaces**\n",
    "- Promotes **loose coupling** and improves **code reusability**.\n",
    "- Increases **security** by only exposing relevant operations.\n",
    "\n",
    "#### ```NOTE:```\n",
    "*Abstract Method must be implemented...*\n",
    "\n",
    "---"
   ]
  },
  {
   "cell_type": "code",
   "execution_count": 2,
   "id": "8aac9efb",
   "metadata": {},
   "outputs": [
    {
     "name": "stdout",
     "output_type": "stream",
     "text": [
      "🔑 Engine started! Ready to go.\n",
      "🚗 Driving the vehicle...\n"
     ]
    }
   ],
   "source": [
    "from abc import ABC, abstractmethod\n",
    "\n",
    "# 🔹 Abstract Base Class\n",
    "class Vehicle(ABC):\n",
    "\n",
    "    # Normal method (concrete method)\n",
    "    def drive(self):\n",
    "        print(\"🚗 Driving the vehicle...\")\n",
    "\n",
    "    # Abstract method (must be implemented by subclasses)\n",
    "    @abstractmethod\n",
    "    def start_engine(self):\n",
    "        pass\n",
    "\n",
    "\n",
    "# 🔹 Derived Class (Car inherits from Vehicle)\n",
    "class Car(Vehicle):\n",
    "\n",
    "    # Implementing the abstract method\n",
    "    def start_engine(self):\n",
    "        print(\"🔑 Engine started! Ready to go.\")\n",
    "\n",
    "\n",
    "# 🔹 Function that operates on any Vehicle\n",
    "def operate_vehicle(vehicle: Vehicle):\n",
    "    vehicle.start_engine()  # Calls subclass implementation\n",
    "    vehicle.drive()         # Uses base class method\n",
    "\n",
    "\n",
    "# 🔹 Create an object of Car and operate it\n",
    "car = Car()\n",
    "operate_vehicle(car)\n"
   ]
  }
 ],
 "metadata": {
  "kernelspec": {
   "display_name": "Python 3",
   "language": "python",
   "name": "python3"
  },
  "language_info": {
   "codemirror_mode": {
    "name": "ipython",
    "version": 3
   },
   "file_extension": ".py",
   "mimetype": "text/x-python",
   "name": "python",
   "nbconvert_exporter": "python",
   "pygments_lexer": "ipython3",
   "version": "3.12.0"
  }
 },
 "nbformat": 4,
 "nbformat_minor": 5
}
