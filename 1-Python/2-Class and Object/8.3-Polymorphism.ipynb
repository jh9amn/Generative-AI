{
 "cells": [
  {
   "cell_type": "markdown",
   "id": "b13748ad",
   "metadata": {},
   "source": [
    "## 🎭 Polymorphism\n",
    "\n",
    "---\n",
    "\n",
    "### 📌 Definition  \n",
    "Polymorphism is a **core concept in Object-Oriented Programming (OOP)** that allows objects of **different classes** to be treated as objects of a **common superclass**.  \n",
    "\n",
    "---\n",
    "\n",
    "### 🔑 Key Points\n",
    "- ✨ It enables a **single action** to be performed in **different forms**.  \n",
    "- 🔄 Achieved mainly through **method overriding** (same method, different behavior).  \n",
    "- 🧩 Also supported via **interfaces / abstract classes** in many languages.  \n",
    "\n",
    "---\n",
    "\n",
    "✅ **In short:**  \n",
    "Polymorphism = *\"One name, many forms\"*\n"
   ]
  },
  {
   "cell_type": "markdown",
   "id": "f3f1f8d6",
   "metadata": {},
   "source": [
    "#### *```Method Overriding:```*\n",
    "Method Overriding allows a child class to provide a specific implementation of a method that is already defined in its parent class."
   ]
  },
  {
   "cell_type": "code",
   "execution_count": null,
   "id": "25758133",
   "metadata": {},
   "outputs": [
    {
     "name": "stdout",
     "output_type": "stream",
     "text": [
      "Dog is speaking!\n",
      "Cat is speaking!\n",
      "Dog is speaking!\n"
     ]
    }
   ],
   "source": [
    "## Base Class\n",
    "class Animal:\n",
    "    def speak(self):\n",
    "        return \"Animal is speaking!\"\n",
    "\n",
    "## Derived Class 1:\n",
    "class Dog(Animal):\n",
    "    ## Overriding speak() method of animal parent class\n",
    "    def speak(self):\n",
    "        return \"Dog is speaking!\"\n",
    "\n",
    "## Derived Class 1:\n",
    "class Cat(Animal):\n",
    "    ## Again Overriding speak() method of animal parent class\n",
    "    def speak(self):\n",
    "        return \"Cat is speaking!\"\n",
    "    \n",
    "## Function that demonstrates Polymorphism\n",
    "def animal_speak(animal):\n",
    "    print(animal.speak())\n",
    "    \n",
    "dog = Dog()\n",
    "print(dog.speak())\n",
    "\n",
    "cat = Cat()\n",
    "print(cat.speak())\n",
    "\n",
    "animal_speak(dog)"
   ]
  },
  {
   "cell_type": "markdown",
   "id": "7eb94ce2",
   "metadata": {},
   "source": [
    "#### ```Polymorphism with Functions and Methods```"
   ]
  },
  {
   "cell_type": "code",
   "execution_count": null,
   "id": "b74f0db0",
   "metadata": {},
   "outputs": [
    {
     "name": "stdout",
     "output_type": "stream",
     "text": [
      "The area is 12\n",
      "The area is 78.57142857142857\n"
     ]
    }
   ],
   "source": [
    "## Base Class\n",
    "class Shape:\n",
    "    def area(self):\n",
    "        return \"The area of the figure.\"\n",
    "    \n",
    "## Derived Class 1\n",
    "class Rectangle(Shape): \n",
    "    def __init__(self, width, height):\n",
    "        self.width = width\n",
    "        self.height = height\n",
    "    \n",
    "    def area(self):\n",
    "        return self.width * self.height\n",
    "    \n",
    "## Derived Class 2\n",
    "class Circle(Shape):\n",
    "    def __init__(self, radius):\n",
    "        self.radius = radius\n",
    "    \n",
    "    def area(self):\n",
    "        return 22/7 * self.radius * self.radius\n",
    "    \n",
    "## Function that demonstrate Polymorphism\n",
    "def print_area(shape):\n",
    "    print(f\"The area is {shape.area()}\")\n",
    "    \n",
    "rectangle = Rectangle(4,3)\n",
    "circle = Circle(5)\n",
    "\n",
    "print_area(rectangle)\n",
    "print_area(circle)\n"
   ]
  },
  {
   "cell_type": "markdown",
   "id": "427486c1",
   "metadata": {},
   "source": [
    "#### ```Polymorphism with Abstract Base Class(interface)```\n",
    "- Abstract Base Classes (ABCs) are used to define common methods for a group of related objects.\n",
    "- They can enforce that derived classes implement particular methods, promoting consistency across different implementations."
   ]
  },
  {
   "cell_type": "code",
   "execution_count": 10,
   "id": "8d0f767a",
   "metadata": {},
   "outputs": [
    {
     "name": "stdout",
     "output_type": "stream",
     "text": [
      "Car engine started.\n",
      "Motorcycle engine started\n"
     ]
    }
   ],
   "source": [
    "from abc import ABC, abstractmethod\n",
    "\n",
    "## Define an abstract class\n",
    "class Vehicle(ABC):\n",
    "    @abstractmethod\n",
    "    def start_engine(self):\n",
    "        pass\n",
    "    \n",
    "## Derived class 1:\n",
    "class Car(Vehicle):\n",
    "    def start_engine(self):\n",
    "        return \"Car engine started.\"\n",
    "    \n",
    "## Derived class 2:\n",
    "class Motorcycle(Vehicle):\n",
    "    def start_engine(self):\n",
    "        return \"Motorcycle engine started\"\n",
    "    \n",
    "def start_vehicle(vehicle):\n",
    "    print(vehicle.start_engine())\n",
    "    \n",
    "## create object of Car and Motorcycle\n",
    "\n",
    "car = Car()\n",
    "motorcycle = Motorcycle()\n",
    "\n",
    "start_vehicle(car)\n",
    "start_vehicle(motorcycle)"
   ]
  },
  {
   "cell_type": "markdown",
   "id": "810e251a",
   "metadata": {},
   "source": [
    "#### ```Conclusion: ```\n",
    "- Polymorphism is a powerful feature of OOP that allows for flexiblity and intergration in code design.\n",
    "- It enables a single function to handle objects of different classes, each with its own implementation of a method. \n",
    "- By understanding and applying polymorphism, we can create more extensible and maintainable object-oriented programs."
   ]
  }
 ],
 "metadata": {
  "kernelspec": {
   "display_name": "Python 3",
   "language": "python",
   "name": "python3"
  },
  "language_info": {
   "codemirror_mode": {
    "name": "ipython",
    "version": 3
   },
   "file_extension": ".py",
   "mimetype": "text/x-python",
   "name": "python",
   "nbconvert_exporter": "python",
   "pygments_lexer": "ipython3",
   "version": "3.12.0"
  }
 },
 "nbformat": 4,
 "nbformat_minor": 5
}
