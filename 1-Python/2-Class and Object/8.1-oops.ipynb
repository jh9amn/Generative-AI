{
 "cells": [
  {
   "cell_type": "markdown",
   "id": "e048e4f7",
   "metadata": {},
   "source": [
    "#### ```Class and Object```\n",
    "- Object-Oriented Programming (OOP) is a programming paradigm that used 'objects' to design applications and computer programs.\n",
    "- OOP allows for modeling real-world scenarios using classes and objects.\n",
    "- This lessob covers the basics of creating classes and objects, including instance variables and methods."
   ]
  },
  {
   "cell_type": "markdown",
   "id": "ef1bcb23",
   "metadata": {},
   "source": [
    "##### A class is a blue print for creating objects. Attributes, methods"
   ]
  },
  {
   "cell_type": "code",
   "execution_count": 2,
   "id": "e3cddca4",
   "metadata": {},
   "outputs": [
    {
     "name": "stdout",
     "output_type": "stream",
     "text": [
      "<class '__main__.Car'>\n"
     ]
    }
   ],
   "source": [
    "class Car:\n",
    "    pass\n",
    "\n",
    "audi = Car()\n",
    "bmw = Car()\n",
    "\n",
    "print(type(audi))"
   ]
  },
  {
   "cell_type": "code",
   "execution_count": 3,
   "id": "41e0ab70",
   "metadata": {},
   "outputs": [
    {
     "name": "stdout",
     "output_type": "stream",
     "text": [
      "<__main__.Car object at 0x0000024320E24EC0>\n",
      "<__main__.Car object at 0x0000024320E25100>\n"
     ]
    }
   ],
   "source": [
    "print(audi)\n",
    "print(bmw)"
   ]
  },
  {
   "cell_type": "code",
   "execution_count": 4,
   "id": "dd6e771f",
   "metadata": {},
   "outputs": [
    {
     "name": "stdout",
     "output_type": "stream",
     "text": [
      "4\n"
     ]
    }
   ],
   "source": [
    "audi.window = 4\n",
    "print(audi.window)"
   ]
  },
  {
   "cell_type": "code",
   "execution_count": null,
   "id": "9e142ef4",
   "metadata": {},
   "outputs": [
    {
     "name": "stdout",
     "output_type": "stream",
     "text": [
      "3\n"
     ]
    },
    {
     "ename": "AttributeError",
     "evalue": "'Car' object has no attribute 'window'",
     "output_type": "error",
     "traceback": [
      "\u001b[31m---------------------------------------------------------------------------\u001b[39m",
      "\u001b[31mAttributeError\u001b[39m                            Traceback (most recent call last)",
      "\u001b[36mCell\u001b[39m\u001b[36m \u001b[39m\u001b[32mIn[6]\u001b[39m\u001b[32m, line 5\u001b[39m\n\u001b[32m      2\u001b[39m tata.doors = \u001b[32m3\u001b[39m\n\u001b[32m      4\u001b[39m \u001b[38;5;28mprint\u001b[39m(tata.doors)\n\u001b[32m----> \u001b[39m\u001b[32m5\u001b[39m \u001b[38;5;28mprint\u001b[39m(\u001b[43mtata\u001b[49m\u001b[43m.\u001b[49m\u001b[43mwindow\u001b[49m)\n",
      "\u001b[31mAttributeError\u001b[39m: 'Car' object has no attribute 'window'"
     ]
    }
   ],
   "source": [
    "tata = Car()\n",
    "tata.doors = 3\n",
    "\n",
    "print(tata.window)"
   ]
  },
  {
   "cell_type": "code",
   "execution_count": 7,
   "id": "a6cf27aa",
   "metadata": {},
   "outputs": [
    {
     "data": {
      "text/plain": [
       "['__class__',\n",
       " '__delattr__',\n",
       " '__dict__',\n",
       " '__dir__',\n",
       " '__doc__',\n",
       " '__eq__',\n",
       " '__format__',\n",
       " '__ge__',\n",
       " '__getattribute__',\n",
       " '__getstate__',\n",
       " '__gt__',\n",
       " '__hash__',\n",
       " '__init__',\n",
       " '__init_subclass__',\n",
       " '__le__',\n",
       " '__lt__',\n",
       " '__module__',\n",
       " '__ne__',\n",
       " '__new__',\n",
       " '__reduce__',\n",
       " '__reduce_ex__',\n",
       " '__repr__',\n",
       " '__setattr__',\n",
       " '__sizeof__',\n",
       " '__str__',\n",
       " '__subclasshook__',\n",
       " '__weakref__',\n",
       " 'doors']"
      ]
     },
     "execution_count": 7,
     "metadata": {},
     "output_type": "execute_result"
    }
   ],
   "source": [
    "dir(tata)"
   ]
  },
  {
   "cell_type": "markdown",
   "id": "2b08f038",
   "metadata": {},
   "source": [
    "#### ````Instance Variable and Methods````"
   ]
  },
  {
   "cell_type": "code",
   "execution_count": 10,
   "id": "4263727f",
   "metadata": {},
   "outputs": [
    {
     "name": "stdout",
     "output_type": "stream",
     "text": [
      "<__main__.Dog object at 0x0000024320F81C70>\n",
      "Laika\n",
      "3\n"
     ]
    }
   ],
   "source": [
    "class Dog:\n",
    "    ## Constructor\n",
    "    def __init__(self, name, age):\n",
    "        ## Initilizing the instance variable\n",
    "        self.name = name\n",
    "        self.age = age\n",
    "        \n",
    "## Creating Object\n",
    "dog1 = Dog(\"Laika\", 3)        ## called the constructor first and taking two parameter (name, age)\n",
    "print(dog1)\n",
    "print(dog1.name)\n",
    "print(dog1.age)\n",
    "    "
   ]
  },
  {
   "cell_type": "code",
   "execution_count": 12,
   "id": "5150e417",
   "metadata": {},
   "outputs": [
    {
     "name": "stdout",
     "output_type": "stream",
     "text": [
      "Lussy\n",
      "4\n"
     ]
    }
   ],
   "source": [
    "dog2 = Dog(\"Lussy\", 4)       \n",
    "print(dog2.name)\n",
    "print(dog2.age)"
   ]
  },
  {
   "cell_type": "markdown",
   "id": "5be84f52",
   "metadata": {},
   "source": [
    "#### ```Class with Instance Method()```"
   ]
  },
  {
   "cell_type": "code",
   "execution_count": 15,
   "id": "bc8327a7",
   "metadata": {},
   "outputs": [
    {
     "name": "stdout",
     "output_type": "stream",
     "text": [
      "Tommy\n",
      "5\n",
      "Tommy is barking\n",
      "Messy\n",
      "5\n",
      "Messy is barking\n"
     ]
    }
   ],
   "source": [
    "class Dog:\n",
    "    ## Constructor\n",
    "    def __init__(self, name, age):\n",
    "        ## Initilizing the instance variable\n",
    "        self.name = name\n",
    "        self.age = age\n",
    "        \n",
    "    ## Creating Instance Method()\n",
    "    def barking(self):\n",
    "        print(f\"{self.name} is barking\")\n",
    "        \n",
    "dog1 = Dog(\"Tommy\", 5)\n",
    "print(dog1.name)\n",
    "print(dog1.age)\n",
    "dog1.barking()\n",
    "\n",
    "dog2 = Dog(\"Messy\", 5)\n",
    "print(dog2.name)\n",
    "print(dog2.age)\n",
    "dog2.barking()"
   ]
  },
  {
   "cell_type": "markdown",
   "id": "c4fa5741",
   "metadata": {},
   "source": [
    "#### ```Modeling a Bank Account```"
   ]
  },
  {
   "cell_type": "code",
   "execution_count": 22,
   "id": "39c2df64",
   "metadata": {},
   "outputs": [
    {
     "name": "stdout",
     "output_type": "stream",
     "text": [
      "500 is deposited. New balance is 1500.\n",
      "200 is withdrawn. Update Balance is 1300.\n",
      "1300\n"
     ]
    }
   ],
   "source": [
    "class BankAccount:\n",
    "    def __init__(self, owner, balance = 0):\n",
    "        self.owner = owner\n",
    "        self.balance = balance\n",
    "    \n",
    "    ## Instance method\n",
    "    def deposite(self, amount):\n",
    "        self.balance += amount\n",
    "        print(f\"{amount} is deposited. New balance is {self.balance}.\")\n",
    "    \n",
    "    def withdraw(self, amount):\n",
    "        if amount > self.balance:\n",
    "            print(\"Insufficient Funds.\")\n",
    "        else:\n",
    "            self.balance -= amount\n",
    "            print(f\"{amount} is withdrawn. Update Balance is {self.balance}.\")\n",
    "    \n",
    "    def getBalance(self):\n",
    "        return self.balance\n",
    "    \n",
    "account = BankAccount(\"Aman\", 1000)\n",
    "account.deposite(500)\n",
    "account.withdraw(200)\n",
    "\n",
    "print(account.getBalance())"
   ]
  },
  {
   "cell_type": "markdown",
   "id": "bd73e2bb",
   "metadata": {},
   "source": [
    "#### ```Conclusion:```\n",
    "Object -Oriented Programming (OOP) allows you to model real-world scenerios using classes and objects. In this lesson, we learned how to create classes and objects, define instance variables, and medthods, and use them to perform various operations. Understanding these concepts is fundamental to writing effective and maintainable Python code."
   ]
  }
 ],
 "metadata": {
  "kernelspec": {
   "display_name": "Python 3",
   "language": "python",
   "name": "python3"
  },
  "language_info": {
   "codemirror_mode": {
    "name": "ipython",
    "version": 3
   },
   "file_extension": ".py",
   "mimetype": "text/x-python",
   "name": "python",
   "nbconvert_exporter": "python",
   "pygments_lexer": "ipython3",
   "version": "3.12.0"
  }
 },
 "nbformat": 4,
 "nbformat_minor": 5
}
