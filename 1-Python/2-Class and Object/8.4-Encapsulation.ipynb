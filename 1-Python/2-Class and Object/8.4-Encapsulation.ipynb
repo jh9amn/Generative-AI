{
 "cells": [
  {
   "cell_type": "markdown",
   "id": "cada1e68",
   "metadata": {},
   "source": [
    "#### ```Encapsulation and Abstarction```\n",
    "Encapsulation and Abstraction are two fundamental principle of Object-Oriented Programming (OOP) that help in designing robust, maintainable, and reuseable code. Encapsulation involves bunding data and methoda that operate on the data within a single unit, while abstraction involves hiding complex implementation details and exposing only the necessary features."
   ]
  },
  {
   "cell_type": "markdown",
   "id": "e193e33c",
   "metadata": {},
   "source": [
    "#### ```Encapsulation```\n",
    "Encapsulation is the concept of wrapping data (variables) and methods (functions) together as a single unit. It restricts direct access to some of the object's components, which is a means of preventing accidental interference and misuse of the data."
   ]
  },
  {
   "cell_type": "markdown",
   "id": "6e883a1f",
   "metadata": {},
   "source": [
    "## Public Variable\n",
    "> ```self.name = name``` \n",
    "- It can be accessable anywhere."
   ]
  },
  {
   "cell_type": "code",
   "execution_count": null,
   "id": "0f2a4920",
   "metadata": {},
   "outputs": [
    {
     "name": "stdout",
     "output_type": "stream",
     "text": [
      "Aman\n"
     ]
    }
   ],
   "source": [
    "#### Encapsulation with Getter and Setter Methods\n",
    "## Public, Protected, Private Access Modifier\n",
    "\n",
    "class Person:\n",
    "    def __init__(self, name, age):\n",
    "        self.name = name        ## Public Variable\n",
    "        self.age = age          ## Public Variable\n",
    "\n",
    "def getName(person):\n",
    "    return person.name\n",
    "    \n",
    "person = Person(\"Aman\", 24)\n",
    "print(getName(person))\n"
   ]
  },
  {
   "cell_type": "code",
   "execution_count": null,
   "id": "e38bd7ff",
   "metadata": {},
   "outputs": [
    {
     "data": {
      "text/plain": [
       "['__class__',\n",
       " '__delattr__',\n",
       " '__dict__',\n",
       " '__dir__',\n",
       " '__doc__',\n",
       " '__eq__',\n",
       " '__format__',\n",
       " '__ge__',\n",
       " '__getattribute__',\n",
       " '__getstate__',\n",
       " '__gt__',\n",
       " '__hash__',\n",
       " '__init__',\n",
       " '__init_subclass__',\n",
       " '__le__',\n",
       " '__lt__',\n",
       " '__module__',\n",
       " '__ne__',\n",
       " '__new__',\n",
       " '__reduce__',\n",
       " '__reduce_ex__',\n",
       " '__repr__',\n",
       " '__setattr__',\n",
       " '__sizeof__',\n",
       " '__str__',\n",
       " '__subclasshook__',\n",
       " '__weakref__',\n",
       " 'age',\n",
       " 'name']"
      ]
     },
     "execution_count": 6,
     "metadata": {},
     "output_type": "execute_result"
    }
   ],
   "source": [
    "## In directory, there are public variable too\n",
    "dir(person)"
   ]
  },
  {
   "cell_type": "markdown",
   "id": "bd6cc170",
   "metadata": {},
   "source": [
    "## Private Variable\n",
    "> ```self.__name = name``` \n",
    "- The double underscore (__) helps the instance variable to create it as Private."
   ]
  },
  {
   "cell_type": "code",
   "execution_count": null,
   "id": "fd8efc04",
   "metadata": {},
   "outputs": [],
   "source": [
    "class Person:\n",
    "    def __init__(self, name, age, gender):\n",
    "        self.__name = name        ## Private Variable\n",
    "        self.__age = age          ## Private Variable\n",
    "        self.gender = gender      ## Public Variable\n",
    "\n",
    "## Private variable cannot be accessable from outside of base(main) class\n",
    "## for accessing that, use getter() and setter methods\n",
    "def getName(person):\n",
    "    ## We cannot access private variables outside of the class\n",
    "    ## return person.name  ❌❌\n",
    "    return person.__name    ## Bad way to access private variable of a class\n",
    "    \n",
    "person = Person(\"Aman\", 24, \"Male\")\n",
    "\n"
   ]
  },
  {
   "cell_type": "code",
   "execution_count": 19,
   "id": "73556dee",
   "metadata": {},
   "outputs": [
    {
     "data": {
      "text/plain": [
       "['_Person__age',\n",
       " '_Person__name',\n",
       " '__class__',\n",
       " '__delattr__',\n",
       " '__dict__',\n",
       " '__dir__',\n",
       " '__doc__',\n",
       " '__eq__',\n",
       " '__format__',\n",
       " '__ge__',\n",
       " '__getattribute__',\n",
       " '__getstate__',\n",
       " '__gt__',\n",
       " '__hash__',\n",
       " '__init__',\n",
       " '__init_subclass__',\n",
       " '__le__',\n",
       " '__lt__',\n",
       " '__module__',\n",
       " '__ne__',\n",
       " '__new__',\n",
       " '__reduce__',\n",
       " '__reduce_ex__',\n",
       " '__repr__',\n",
       " '__setattr__',\n",
       " '__sizeof__',\n",
       " '__str__',\n",
       " '__subclasshook__',\n",
       " '__weakref__',\n",
       " 'gender']"
      ]
     },
     "execution_count": 19,
     "metadata": {},
     "output_type": "execute_result"
    }
   ],
   "source": [
    "## In directory, there is no private variable \n",
    "dir(person)"
   ]
  },
  {
   "cell_type": "markdown",
   "id": "a6e05d60",
   "metadata": {},
   "source": [
    "## Protected Variable\n",
    "> ```self._name = name``` \n",
    "- The single underscore (_) helps the instance variable to create it as Protected.\n",
    "- The Protected Variable of Base Class can be access by Derived class."
   ]
  },
  {
   "cell_type": "code",
   "execution_count": null,
   "id": "f53b7512",
   "metadata": {},
   "outputs": [
    {
     "data": {
      "text/plain": [
       "'Aman'"
      ]
     },
     "execution_count": 6,
     "metadata": {},
     "output_type": "execute_result"
    }
   ],
   "source": [
    "# Base Class\n",
    "class Person:\n",
    "    def __init__(self, name, age, gender):\n",
    "        self._name = name        ## Protected Variable\n",
    "        self._age = age          ## Protected Variable\n",
    "        self.gender = gender     ## Public Variable\n",
    "        \n",
    "# Derived Class\n",
    "class Employee(Person):\n",
    "    def __init__(self, name, age, gender):\n",
    "        super().__init__(name, age, gender)   ## Using base class constructor\n",
    "\n",
    "## Protected variable cannot be accessable from outside of base and derived class\n",
    "## for accessing protected variable, use getter() and setter() methods\n",
    "def getName(person):\n",
    "    ## We cannot access protected variables outside of its base and derived classes \n",
    "    ## return person.name       ❌❌\n",
    "    return person._name         ## Bad way to access protected variable outside of its base and derived class\n",
    "\n",
    "    \n",
    "employee = Employee(\"Aman\", 24, \"Male\")\n",
    "## getName(employee)\n"
   ]
  },
  {
   "cell_type": "markdown",
   "id": "9842dbfb",
   "metadata": {},
   "source": [
    "#### ```Encapsulation with Getter and Setter Methods```\n",
    "\n",
    "Encapsulation is one of the four fundamental concepts of **Object-Oriented Programming (OOP)**.  \n",
    "It refers to **wrapping the data (variables) and the code (methods) together into a single unit (class)** while restricting direct access to some of the object’s attributes.\n",
    "\n",
    "---\n",
    "\n",
    "#### 🔑 ```Key Points```\n",
    "- **Encapsulation** ensures **data hiding** by declaring variables as **private** or **protected**.\n",
    "- **Getter methods** are used to **access (read)** the value of private/protected variables.\n",
    "- **Setter methods** are used to **modify (write/update)** the value of private/protected variables in a controlled way.\n",
    "- Helps maintain **data integrity** by allowing validation inside setters.\n",
    "- Makes the class more **flexible and maintainable**.\n",
    "\n",
    "---"
   ]
  },
  {
   "cell_type": "code",
   "execution_count": null,
   "id": "f1f40783",
   "metadata": {},
   "outputs": [
    {
     "name": "stdout",
     "output_type": "stream",
     "text": [
      "Aman\n",
      "30\n"
     ]
    }
   ],
   "source": [
    "# Base Class\n",
    "class Person:\n",
    "    def __init__(self, name, age):\n",
    "        self.__name = name        ## Private Variable\n",
    "        self.__age = age          ## Private Variable\n",
    "        \n",
    "    ## Getter Method to access name private variables\n",
    "    def getName(self):\n",
    "        return self.__name\n",
    "    \n",
    "    ## Setter Method to Modify the private variables\n",
    "    def setName(self, name):\n",
    "        self.__name = name\n",
    "        \n",
    "    ## Setter Method for Modify the private variable age\n",
    "    def setAge(self, age):\n",
    "        if age > 0:\n",
    "            self.__age = age\n",
    "        else:\n",
    "            print(\"Age cannot be in Negetive.\")\n",
    "    \n",
    "    def getAge(self):\n",
    "        return self.__age\n",
    "\n",
    "    \n",
    "person = Person(\"Aman\", 24)\n",
    "print(person.getName())\n",
    "person.setAge(30)\n",
    "print(person.getAge())\n"
   ]
  }
 ],
 "metadata": {
  "kernelspec": {
   "display_name": "Python 3",
   "language": "python",
   "name": "python3"
  },
  "language_info": {
   "codemirror_mode": {
    "name": "ipython",
    "version": 3
   },
   "file_extension": ".py",
   "mimetype": "text/x-python",
   "name": "python",
   "nbconvert_exporter": "python",
   "pygments_lexer": "ipython3",
   "version": "3.12.0"
  }
 },
 "nbformat": 4,
 "nbformat_minor": 5
}
