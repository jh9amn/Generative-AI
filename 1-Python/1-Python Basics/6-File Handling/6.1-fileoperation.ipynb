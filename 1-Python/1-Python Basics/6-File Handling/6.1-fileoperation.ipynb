{
 "cells": [
  {
   "cell_type": "markdown",
   "id": "73333723",
   "metadata": {},
   "source": [
    "#### ```FIle Operation - Read and Write Files```\n",
    "\n",
    "- File handling is crucial part of any programming language.\n",
    "- Python provides build-in functions and methods to read from and write to files, both text and binary.\n",
    "- This lesson will cover the basics of file handling, including reading and writing text files and binary files."
   ]
  },
  {
   "cell_type": "markdown",
   "id": "a735bbac",
   "metadata": {},
   "source": [
    "#### ```Read a whole file```"
   ]
  },
  {
   "cell_type": "code",
   "execution_count": 2,
   "id": "45046ce2",
   "metadata": {},
   "outputs": [
    {
     "name": "stdout",
     "output_type": "stream",
     "text": [
      "Hello, THis is my working directory and My name is Aman\n",
      "Currently Here I am working to learing the Pyhon \n",
      "I am feeling very proud myself that I was here..\n",
      "Today is 12th sept 2025 and looking forward to do better for world..\n"
     ]
    }
   ],
   "source": [
    "with open('example.txt', 'r') as file:\n",
    "    content = file.read()\n",
    "    print(content)"
   ]
  },
  {
   "cell_type": "markdown",
   "id": "e4fbe5df",
   "metadata": {},
   "source": [
    "#### ```Read file line by line```"
   ]
  },
  {
   "cell_type": "code",
   "execution_count": null,
   "id": "bd6123d1",
   "metadata": {},
   "outputs": [
    {
     "name": "stdout",
     "output_type": "stream",
     "text": [
      "Hello, THis is my working directory and My name is Aman\n",
      "Currently Here I am working to learing the Pyhon\n",
      "I am feeling very proud myself that I was here..\n",
      "Today is 12th sept 2025 and looking forward to do better for world..\n"
     ]
    }
   ],
   "source": [
    "with open('example.txt', 'r') as file:\n",
    "    for line in file:\n",
    "    ##  print(line)             ## by this, new line spaces are also printed\n",
    "        print(line.strip())     ## it will remove all new line charactors"
   ]
  },
  {
   "cell_type": "markdown",
   "id": "68a02ddb",
   "metadata": {},
   "source": [
    "#### ```Writing a file(Overwriting)```"
   ]
  },
  {
   "cell_type": "code",
   "execution_count": 12,
   "id": "1728a7e9",
   "metadata": {},
   "outputs": [],
   "source": [
    "## This will overwrite all content of file with given below \n",
    "with open('example.txt', 'w') as file:\n",
    "    file.write(\"Hello World!\\n\")\n",
    "    file.write('This is a new line.\\n')\n",
    "    file.write('I just now overwrite the all content with above ones\\n')"
   ]
  },
  {
   "cell_type": "markdown",
   "id": "f680137c",
   "metadata": {},
   "source": [
    "#### ```Writing a file(without Overwriting)```"
   ]
  },
  {
   "cell_type": "code",
   "execution_count": 13,
   "id": "68d4c1b0",
   "metadata": {},
   "outputs": [],
   "source": [
    "## This will append the given below lines under the file content\n",
    "with open('example.txt', 'a') as file:\n",
    "    file.write(\"Append Operation taking place!\\n\")\n",
    "    file.write(\"I am appending one more line.\\n\")"
   ]
  },
  {
   "cell_type": "markdown",
   "id": "6a880222",
   "metadata": {},
   "source": [
    "#### ```Append List of lines```"
   ]
  },
  {
   "cell_type": "code",
   "execution_count": 15,
   "id": "fa6f768d",
   "metadata": {},
   "outputs": [],
   "source": [
    "lines = ['first line \\n', 'second line \\n', 'third line \\n']\n",
    "with open('example.txt', 'a') as file:\n",
    "    file.writelines(lines)"
   ]
  },
  {
   "cell_type": "markdown",
   "id": "477ea404",
   "metadata": {},
   "source": [
    "#### ```Binary Files```"
   ]
  },
  {
   "cell_type": "code",
   "execution_count": 17,
   "id": "dc6f609f",
   "metadata": {},
   "outputs": [],
   "source": [
    "## Writing a binary file\n",
    "data = b'\\x00\\x01\\x02\\x03\\x04'\n",
    "\n",
    "with open('example2.bin', 'wb') as file:\n",
    "    file.write(data)"
   ]
  },
  {
   "cell_type": "code",
   "execution_count": 19,
   "id": "46ef3005",
   "metadata": {},
   "outputs": [
    {
     "name": "stdout",
     "output_type": "stream",
     "text": [
      "b'\\x00\\x01\\x02\\x03\\x04'\n"
     ]
    }
   ],
   "source": [
    "## Reading a binary file\n",
    "with open('example2.bin', 'rb') as file:\n",
    "    content = file.read()\n",
    "    print(content)"
   ]
  },
  {
   "cell_type": "markdown",
   "id": "bc8c1aff",
   "metadata": {},
   "source": [
    "#### ```Read the content from src txt file and write to dest txt file```"
   ]
  },
  {
   "cell_type": "code",
   "execution_count": 20,
   "id": "7755d1f2",
   "metadata": {},
   "outputs": [],
   "source": [
    "with open('example.txt', 'r') as source_file:\n",
    "    content = source_file.read()\n",
    "    \n",
    "with open('dest.txt', 'w') as destination_file:\n",
    "    destination_file.write(content)"
   ]
  },
  {
   "cell_type": "markdown",
   "id": "1d71e78a",
   "metadata": {},
   "source": [
    "#### ```Read a text file and count number of lines, words, and charactors..```"
   ]
  },
  {
   "cell_type": "code",
   "execution_count": 22,
   "id": "ca95be96",
   "metadata": {},
   "outputs": [
    {
     "name": "stdout",
     "output_type": "stream",
     "text": [
      "Lines: 8, Words: 33, Charators: 184\n"
     ]
    }
   ],
   "source": [
    "def count_text_file(file_path):\n",
    "    with open(file_path, 'r') as file:\n",
    "        lines = file.readlines()\n",
    "        line_count = len(lines)\n",
    "        word_count = sum(len(line.split()) for line in lines)\n",
    "        char_count = sum(len(line) for line in lines)\n",
    "    return line_count, word_count, char_count\n",
    "\n",
    "file_path = 'example.txt'\n",
    "lines, words, charactors = count_text_file(file_path)\n",
    "print(f'Lines: {lines}, Words: {words}, Charators: {charactors}')"
   ]
  },
  {
   "cell_type": "markdown",
   "id": "7788ab05",
   "metadata": {},
   "source": [
    "#### ```Writing and then Reading a file```"
   ]
  },
  {
   "cell_type": "markdown",
   "id": "7151443f",
   "metadata": {},
   "source": [
    "##### ```W+ mode:```\n",
    "- The w+ mode in python is used to open a file for both reading and writing.\n",
    "- It the file does not exist, it will be created.\n",
    "- If the file exists, its content is truncated(i.e, the file is overwrintten)"
   ]
  },
  {
   "cell_type": "code",
   "execution_count": 27,
   "id": "6fd2b8ca",
   "metadata": {},
   "outputs": [
    {
     "name": "stdout",
     "output_type": "stream",
     "text": [
      "Hello world!\n",
      "This is my a new line \n",
      "\n"
     ]
    }
   ],
   "source": [
    "## Writing and then reading a file\n",
    "with open('example3.txt', 'w+') as file:\n",
    "    file.write('Hello world!\\n')\n",
    "    file.write(\"This is my a new line \\n\")\n",
    "    \n",
    "    ## move the file cursor to the  beggining\n",
    "    file.seek(0)\n",
    "    \n",
    "    ## Read the content of the file\n",
    "    content = file.read()\n",
    "    print(content)      ## to print we have to take cursor to the beggining (i.e, file.seek(0))"
   ]
  }
 ],
 "metadata": {
  "kernelspec": {
   "display_name": "Python 3",
   "language": "python",
   "name": "python3"
  },
  "language_info": {
   "codemirror_mode": {
    "name": "ipython",
    "version": 3
   },
   "file_extension": ".py",
   "mimetype": "text/x-python",
   "name": "python",
   "nbconvert_exporter": "python",
   "pygments_lexer": "ipython3",
   "version": "3.12.0"
  }
 },
 "nbformat": 4,
 "nbformat_minor": 5
}
