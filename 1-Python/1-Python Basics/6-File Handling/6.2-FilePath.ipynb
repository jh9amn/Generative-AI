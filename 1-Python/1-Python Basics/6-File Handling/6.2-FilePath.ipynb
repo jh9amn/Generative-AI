{
 "cells": [
  {
   "cell_type": "code",
   "execution_count": 1,
   "id": "88c77c3d",
   "metadata": {},
   "outputs": [
    {
     "name": "stdout",
     "output_type": "stream",
     "text": [
      "Current working directory is d:\\Gen AI\\Python\\1-Python Basics\\6-File Handling\n"
     ]
    }
   ],
   "source": [
    "import os\n",
    "cwd = os.getcwd()\n",
    "print(f'Current working directory is {cwd}')"
   ]
  },
  {
   "cell_type": "markdown",
   "id": "020287e5",
   "metadata": {},
   "source": [
    "#### ```Create a new Directory with help of OS```"
   ]
  },
  {
   "cell_type": "code",
   "execution_count": 2,
   "id": "d9aa65e3",
   "metadata": {},
   "outputs": [
    {
     "name": "stdout",
     "output_type": "stream",
     "text": [
      "Directory 'package' created.\n"
     ]
    }
   ],
   "source": [
    "new_directory = \"package\"\n",
    "os.mkdir(new_directory)\n",
    "print(f\"Directory '{new_directory}' created.\")"
   ]
  },
  {
   "cell_type": "markdown",
   "id": "5c4fb148",
   "metadata": {},
   "source": [
    "#### ```Listing Files and Directory```"
   ]
  },
  {
   "cell_type": "code",
   "execution_count": 3,
   "id": "c1f9a8b9",
   "metadata": {},
   "outputs": [
    {
     "name": "stdout",
     "output_type": "stream",
     "text": [
      "['6.1-fileoperation.ipynb', '6.2-FilePath.ipynb', 'dest.txt', 'example.txt', 'example2.bin', 'example3.txt', 'package']\n"
     ]
    }
   ],
   "source": [
    "items = os.listdir('.')\n",
    "print(items)"
   ]
  },
  {
   "cell_type": "markdown",
   "id": "c3c964a9",
   "metadata": {},
   "source": [
    "#### ```Joining Path```"
   ]
  },
  {
   "cell_type": "code",
   "execution_count": 5,
   "id": "b8648a36",
   "metadata": {},
   "outputs": [
    {
     "name": "stdout",
     "output_type": "stream",
     "text": [
      "folder\\file.txt\n"
     ]
    }
   ],
   "source": [
    "dir_name = \"folder\"\n",
    "file_name = \"file.txt\"\n",
    "full_path = os.path.join(dir_name, file_name)\n",
    "print(full_path)"
   ]
  },
  {
   "cell_type": "code",
   "execution_count": 6,
   "id": "b0427702",
   "metadata": {},
   "outputs": [
    {
     "name": "stdout",
     "output_type": "stream",
     "text": [
      "d:\\Gen AI\\Python\\1-Python Basics\\6-File Handling\\folder\\file.txt\n"
     ]
    }
   ],
   "source": [
    "## Get your whole current path\n",
    "dir_name = \"folder\"\n",
    "file_name = \"file.txt\"\n",
    "full_path = os.path.join(os.getcwd(), dir_name, file_name)\n",
    "print(full_path)"
   ]
  },
  {
   "cell_type": "code",
   "execution_count": 8,
   "id": "d4035e9b",
   "metadata": {},
   "outputs": [
    {
     "name": "stdout",
     "output_type": "stream",
     "text": [
      "The path 'example.txt' exists\n"
     ]
    }
   ],
   "source": [
    "## Path exist or not\n",
    "path = \"example.txt\"\n",
    "if os.path.exists(path):\n",
    "    print(f\"The path '{path}' exists\")\n",
    "else: \n",
    "    print(f\"he path '{path}' does not exist\")\n",
    "    "
   ]
  },
  {
   "cell_type": "code",
   "execution_count": null,
   "id": "08b8eb50",
   "metadata": {},
   "outputs": [
    {
     "name": "stdout",
     "output_type": "stream",
     "text": [
      "The path 'example.txt' is a file.\n"
     ]
    }
   ],
   "source": [
    "## Checking if a Path is a file or a directory\n",
    "import os\n",
    "\n",
    "path = 'example.txt'\n",
    "if os.path.isfile(path):\n",
    "    print(f\"The path '{path}' is a file.\")\n",
    "elif os.path.isdir(path):\n",
    "    print(f\"The path '{path}' is a directory.\")\n",
    "else:\n",
    "    print(f\"The path '{path} is neither a file nor a directory.'\")"
   ]
  },
  {
   "cell_type": "code",
   "execution_count": null,
   "id": "ced3ad04",
   "metadata": {},
   "outputs": [
    {
     "name": "stdout",
     "output_type": "stream",
     "text": [
      "d:\\Gen AI\\Python\\1-Python Basics\\6-File Handling\\example.txt\n"
     ]
    }
   ],
   "source": [
    "## Getting the absolute path\n",
    "relative_path = 'example.txt'\n",
    "absolute_path = os.path.abspath(relative_path)      ## this will give the whole path structure \n",
    "print(absolute_path)"
   ]
  }
 ],
 "metadata": {
  "kernelspec": {
   "display_name": "Python 3",
   "language": "python",
   "name": "python3"
  },
  "language_info": {
   "codemirror_mode": {
    "name": "ipython",
    "version": 3
   },
   "file_extension": ".py",
   "mimetype": "text/x-python",
   "name": "python",
   "nbconvert_exporter": "python",
   "pygments_lexer": "ipython3",
   "version": "3.12.0"
  }
 },
 "nbformat": 4,
 "nbformat_minor": 5
}
