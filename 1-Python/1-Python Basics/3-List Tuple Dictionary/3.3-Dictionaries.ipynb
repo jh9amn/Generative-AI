{
 "cells": [
  {
   "cell_type": "markdown",
   "id": "bbd79115",
   "metadata": {},
   "source": [
    "## Introduction to Dictionaries"
   ]
  },
  {
   "cell_type": "markdown",
   "id": "2e95c315",
   "metadata": {},
   "source": [
    "- Dictionary are unordered collection of items.\n",
    "- They store data in key-value pairs.\n",
    "- Keys must be unique and immutable (e.g strings, numbers, or tuples), while values can be of any tyoe"
   ]
  },
  {
   "cell_type": "code",
   "execution_count": 2,
   "id": "55c29bbd",
   "metadata": {},
   "outputs": [
    {
     "name": "stdout",
     "output_type": "stream",
     "text": [
      "<class 'dict'>\n",
      "<class 'dict'>\n"
     ]
    }
   ],
   "source": [
    "### ```Creating Dictionary```\n",
    "empty_dict = {}\n",
    "print(type(empty_dict))\n",
    "\n",
    "empty_dict2 = dict();\n",
    "print(type(empty_dict2))"
   ]
  },
  {
   "cell_type": "code",
   "execution_count": 3,
   "id": "4d4cef41",
   "metadata": {},
   "outputs": [
    {
     "name": "stdout",
     "output_type": "stream",
     "text": [
      "{'name': 'Aman', 'age': 24, 'course': 'MCA'}\n",
      "<class 'dict'>\n"
     ]
    }
   ],
   "source": [
    "student = {\"name\": \"Aman\",\n",
    "           \"age\" : 24,\n",
    "           \"course\" : \"MCA\"}\n",
    "\n",
    "print(student)\n",
    "print(type(student))"
   ]
  },
  {
   "cell_type": "code",
   "execution_count": null,
   "id": "4197a1b8",
   "metadata": {},
   "outputs": [
    {
     "name": "stdout",
     "output_type": "stream",
     "text": [
      "{'name': 'kumar', 'age': 24}\n"
     ]
    }
   ],
   "source": [
    "student = {\"name\": \"Aman\",\n",
    "           \"age\" : 24,\n",
    "           \"name\" : \"kumar\"}        ## key value replaced with recent value\n",
    "print(student)"
   ]
  },
  {
   "cell_type": "markdown",
   "id": "e2125b44",
   "metadata": {},
   "source": [
    "#### ```Accessing Dictionary Elements```"
   ]
  },
  {
   "cell_type": "code",
   "execution_count": 11,
   "id": "2646fba2",
   "metadata": {},
   "outputs": [
    {
     "name": "stdout",
     "output_type": "stream",
     "text": [
      "{'name': 'Aman', 'age': 24, 'course': 'MCA'}\n",
      "Aman\n",
      "24\n",
      "MCA\n",
      "Aman\n",
      "24\n",
      "None\n",
      "Not Available\n"
     ]
    }
   ],
   "source": [
    "student = {\"name\": \"Aman\",\n",
    "           \"age\" : 24,\n",
    "           \"course\" : \"MCA\"}\n",
    "\n",
    "print(student)\n",
    "print(student[\"name\"])\n",
    "print(student[\"age\"])\n",
    "print(student[\"course\"])\n",
    "\n",
    "## Another way to access key value of dictionary using get() method\n",
    "print(student.get('name'))\n",
    "print(student.get(\"age\"))\n",
    "print(student.get(\"last_name\"))     ## None\n",
    "print(student.get(\"last_name\",\"Not Available\"))"
   ]
  },
  {
   "cell_type": "markdown",
   "id": "4da63d68",
   "metadata": {},
   "source": [
    "#### ```Modifying Dictionary Element```\n",
    "- Dictionary are mutable\n",
    "- you can add, update, delete elements"
   ]
  },
  {
   "cell_type": "code",
   "execution_count": null,
   "id": "567f7886",
   "metadata": {},
   "outputs": [
    {
     "name": "stdout",
     "output_type": "stream",
     "text": [
      "{'name': 'Aman', 'age': 25, 'course': 'MCA'}\n",
      "{'name': 'Aman', 'age': 25, 'course': 'MCA', 'address': 'India'}\n",
      "{'name': 'Aman', 'age': 25, 'address': 'India'}\n"
     ]
    }
   ],
   "source": [
    "student = {\"name\": \"Aman\",\n",
    "           \"age\" : 24,\n",
    "           \"course\" : \"MCA\"}\n",
    "\n",
    "student[\"age\"] = 25                 ## Update the key value\n",
    "print(student)\n",
    "student[\"address\"]  = \"India\"       ## Add new key value element      \n",
    "print(student)\n",
    "\n",
    "\n",
    "del student[\"course\"]               ## deleted the course key value pair\n",
    "print(student)"
   ]
  },
  {
   "cell_type": "markdown",
   "id": "19369010",
   "metadata": {},
   "source": [
    "#### ```Common Dictionary Method ```"
   ]
  },
  {
   "cell_type": "code",
   "execution_count": null,
   "id": "e2306ea6",
   "metadata": {},
   "outputs": [
    {
     "name": "stdout",
     "output_type": "stream",
     "text": [
      "dict_keys(['name', 'age', 'address'])\n",
      "dict_values(['Aman', 25, 'India'])\n"
     ]
    }
   ],
   "source": [
    "## Get all keys of dictionary\n",
    "keys = student.keys()\n",
    "print(keys)\n",
    "\n",
    "## Get all value of dictionary\n",
    "values = student.values()\n",
    "print(values)"
   ]
  },
  {
   "cell_type": "code",
   "execution_count": 17,
   "id": "04da3b58",
   "metadata": {},
   "outputs": [
    {
     "name": "stdout",
     "output_type": "stream",
     "text": [
      "dict_items([('name', 'Aman'), ('age', 25), ('address', 'India')])\n"
     ]
    }
   ],
   "source": [
    "items = student.items()     ## get all key value pairs\n",
    "print(items)"
   ]
  },
  {
   "cell_type": "markdown",
   "id": "b8d07a32",
   "metadata": {},
   "source": [
    "#### ```Shallow Copy```"
   ]
  },
  {
   "cell_type": "code",
   "execution_count": null,
   "id": "b366833d",
   "metadata": {},
   "outputs": [
    {
     "name": "stdout",
     "output_type": "stream",
     "text": [
      "{'name': 'Aman1', 'age': 24, 'course': 'MCA'}\n",
      "{'name': 'Aman1', 'age': 24, 'course': 'MCA'}\n"
     ]
    }
   ],
   "source": [
    "student = {\"name\": \"Aman1\",\n",
    "           \"age\" : 24,\n",
    "           \"course\" : \"MCA\"}\n",
    "print(student)\n",
    "\n",
    "student_copy = student          ## same memory allocation\n",
    "print(student_copy)"
   ]
  },
  {
   "cell_type": "code",
   "execution_count": 19,
   "id": "44965992",
   "metadata": {},
   "outputs": [
    {
     "name": "stdout",
     "output_type": "stream",
     "text": [
      "{'name': 'Aman2', 'age': 24, 'course': 'MCA'}\n",
      "{'name': 'Aman2', 'age': 24, 'course': 'MCA'}\n"
     ]
    }
   ],
   "source": [
    "student[\"name\"] = \"Aman2\"\n",
    "print(student)\n",
    "print(student_copy)"
   ]
  },
  {
   "cell_type": "code",
   "execution_count": null,
   "id": "e25f65f2",
   "metadata": {},
   "outputs": [
    {
     "name": "stdout",
     "output_type": "stream",
     "text": [
      "{'name': 'Aman2', 'age': 24, 'course': 'MCA'}\n",
      "{'name': 'Aman2', 'age': 24, 'course': 'MCA'}\n"
     ]
    }
   ],
   "source": [
    "student_copy1 = student.copy()      ## shallow copy provide another memory allocation\n",
    "print(student_copy1)\n",
    "print(student)"
   ]
  },
  {
   "cell_type": "code",
   "execution_count": 22,
   "id": "ab22f2c8",
   "metadata": {},
   "outputs": [
    {
     "name": "stdout",
     "output_type": "stream",
     "text": [
      "{'name': 'Aman3', 'age': 24, 'course': 'MCA'}\n",
      "{'name': 'Aman2', 'age': 24, 'course': 'MCA'}\n"
     ]
    }
   ],
   "source": [
    "## Update student name\n",
    "student[\"name\"] = \"Aman3\"\n",
    "print(student)\n",
    "print(student_copy1)"
   ]
  },
  {
   "cell_type": "markdown",
   "id": "5b1e03fa",
   "metadata": {},
   "source": [
    "#### ```Iterating over dictionary```\n"
   ]
  },
  {
   "cell_type": "code",
   "execution_count": 23,
   "id": "25cd2589",
   "metadata": {},
   "outputs": [
    {
     "name": "stdout",
     "output_type": "stream",
     "text": [
      "name\n",
      "age\n",
      "course\n"
     ]
    }
   ],
   "source": [
    "## We can use loop to iterate over dictionary keys, values, or items\n",
    "\n",
    "## Iterate over keys\n",
    "for key in student.keys():\n",
    "    print(key)"
   ]
  },
  {
   "cell_type": "code",
   "execution_count": 24,
   "id": "eca9420f",
   "metadata": {},
   "outputs": [
    {
     "name": "stdout",
     "output_type": "stream",
     "text": [
      "Aman3\n",
      "24\n",
      "MCA\n"
     ]
    }
   ],
   "source": [
    "## Iterate over values\n",
    "for value in student.values():\n",
    "    print(value)"
   ]
  },
  {
   "cell_type": "code",
   "execution_count": 27,
   "id": "36bdd4f9",
   "metadata": {},
   "outputs": [
    {
     "name": "stdout",
     "output_type": "stream",
     "text": [
      "name: Aman3\n",
      "age: 24\n",
      "course: MCA\n"
     ]
    }
   ],
   "source": [
    "## Iterate over key -> values pairs\n",
    "for key,value in student.items():\n",
    "    print(f\"{key}: {value}\")"
   ]
  },
  {
   "cell_type": "markdown",
   "id": "c6524920",
   "metadata": {},
   "source": [
    "#### ```Nested Dictionaries```"
   ]
  },
  {
   "cell_type": "code",
   "execution_count": 30,
   "id": "9e1e0490",
   "metadata": {},
   "outputs": [
    {
     "name": "stdout",
     "output_type": "stream",
     "text": [
      "{'student1': {'name': 'Aman', 'age': 22}, 'student2': {'name': 'Raj', 'age': 25}}\n"
     ]
    }
   ],
   "source": [
    "students ={\n",
    "    \"student1\" : {\n",
    "        \"name\" : \"Aman\",\n",
    "        \"age\" : 22\n",
    "    },\n",
    "    \"student2\" : {\n",
    "        \"name\" : \"Raj\",\n",
    "        \"age\" : 25\n",
    "    }\n",
    "}\n",
    "\n",
    "print(students)"
   ]
  },
  {
   "cell_type": "markdown",
   "id": "896c59e8",
   "metadata": {},
   "source": [
    "#### ```Access Nested Dictionary Elements```"
   ]
  },
  {
   "cell_type": "code",
   "execution_count": 34,
   "id": "0b834098",
   "metadata": {},
   "outputs": [
    {
     "name": "stdout",
     "output_type": "stream",
     "text": [
      "{'name': 'Raj', 'age': 25}\n",
      "Aman\n",
      "Raj\n"
     ]
    }
   ],
   "source": [
    "print(students[\"student2\"])\n",
    "print(students[\"student1\"][\"name\"])\n",
    "print(students[\"student2\"][\"name\"])"
   ]
  },
  {
   "cell_type": "markdown",
   "id": "b45d2592",
   "metadata": {},
   "source": [
    "#### ```Iterating over nested dictionary```"
   ]
  },
  {
   "cell_type": "code",
   "execution_count": null,
   "id": "15753504",
   "metadata": {},
   "outputs": [
    {
     "name": "stdout",
     "output_type": "stream",
     "text": [
      "student1 : {'name': 'Aman', 'age': 22}\n",
      "student2 : {'name': 'Raj', 'age': 25}\n"
     ]
    }
   ],
   "source": [
    "students ={\n",
    "    \"student1\" : {              ## key or id\n",
    "        \"name\" : \"Aman\",        ## value or info\n",
    "        \"age\" : 22\n",
    "    },\n",
    "    \"student2\" : {\n",
    "        \"name\" : \"Raj\",\n",
    "        \"age\" : 25\n",
    "    }\n",
    "}\n",
    "\n",
    "for student_id, student_info in students.items():\n",
    "    print(f\"{student_id} : {student_info}\")"
   ]
  },
  {
   "cell_type": "code",
   "execution_count": 37,
   "id": "3f3acc1e",
   "metadata": {},
   "outputs": [
    {
     "name": "stdout",
     "output_type": "stream",
     "text": [
      "student1 : {'name': 'Aman', 'age': 22}\n",
      "name : Aman\n",
      "age : 22\n",
      "student2 : {'name': 'Raj', 'age': 25}\n",
      "name : Raj\n",
      "age : 25\n"
     ]
    }
   ],
   "source": [
    "for student_id, student_info in students.items():\n",
    "    print(f\"{student_id} : {student_info}\")\n",
    "    for key,value in student_info.items():\n",
    "        print(f\"{key} : {value}\")"
   ]
  },
  {
   "cell_type": "markdown",
   "id": "12872ec9",
   "metadata": {},
   "source": [
    "#### ```Dictionary Comprehension```"
   ]
  },
  {
   "cell_type": "code",
   "execution_count": 38,
   "id": "7200be45",
   "metadata": {},
   "outputs": [
    {
     "name": "stdout",
     "output_type": "stream",
     "text": [
      "{0: 0, 1: 1, 2: 4, 3: 9, 4: 16}\n"
     ]
    }
   ],
   "source": [
    "squares = {x:x**2 for x in range(5)}\n",
    "print(squares)"
   ]
  },
  {
   "cell_type": "code",
   "execution_count": 43,
   "id": "9cd157ea",
   "metadata": {},
   "outputs": [
    {
     "name": "stdout",
     "output_type": "stream",
     "text": [
      "{2: 'even', 3: 'odd', 4: 'even', 5: 'odd', 6: 'even', 7: 'odd', 8: 'even', 9: 'odd', 10: 'even', 11: 'odd', 12: 'even', 13: 'odd', 14: 'even', 15: 'odd', 16: 'even', 17: 'odd', 18: 'even', 19: 'odd'}\n"
     ]
    }
   ],
   "source": [
    "even = {x:(\"even\" if x%2==0 else \"odd\") for x in range(20) if x > 1}\n",
    "print(even)"
   ]
  },
  {
   "cell_type": "code",
   "execution_count": 46,
   "id": "3cc1cd97",
   "metadata": {},
   "outputs": [
    {
     "name": "stdout",
     "output_type": "stream",
     "text": [
      "{1: 2, 2: 3, 4: 3, 5: 2, 6: 3, 7: 2}\n"
     ]
    }
   ],
   "source": [
    "## Practicle Examples\n",
    "\n",
    "## Use a dictionary to count the frequency of ele in list\n",
    "numbers = [1,2,4,5,6,7,4,2,5,6,2,1,4,6,7]\n",
    "freq = {}\n",
    "for num in numbers:\n",
    "    if num in freq:\n",
    "        freq[num]+=1\n",
    "    else:\n",
    "        freq[num] = 1\n",
    "print(freq)"
   ]
  },
  {
   "cell_type": "markdown",
   "id": "84b42984",
   "metadata": {},
   "source": [
    "#### ```Merge 2 dictionaries```"
   ]
  },
  {
   "cell_type": "code",
   "execution_count": 47,
   "id": "e2be71eb",
   "metadata": {},
   "outputs": [
    {
     "name": "stdout",
     "output_type": "stream",
     "text": [
      "{'a': 2, 'b': 2, 'c': 2}\n"
     ]
    }
   ],
   "source": [
    "dict1 = {\"a\" : 1, \"b\" : 2}\n",
    "dict2 = {\"c\" : 2, \"a\" : 2}\n",
    "merged_dict = {**dict1, **dict2}\n",
    "print(merged_dict)"
   ]
  }
 ],
 "metadata": {
  "kernelspec": {
   "display_name": "Python 3",
   "language": "python",
   "name": "python3"
  },
  "language_info": {
   "codemirror_mode": {
    "name": "ipython",
    "version": 3
   },
   "file_extension": ".py",
   "mimetype": "text/x-python",
   "name": "python",
   "nbconvert_exporter": "python",
   "pygments_lexer": "ipython3",
   "version": "3.12.0"
  }
 },
 "nbformat": 4,
 "nbformat_minor": 5
}
