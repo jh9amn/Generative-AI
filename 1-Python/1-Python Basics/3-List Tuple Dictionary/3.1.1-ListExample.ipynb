{
 "cells": [
  {
   "cell_type": "markdown",
   "id": "d776da88",
   "metadata": {},
   "source": [
    "#### ```Organizing Student Grade```"
   ]
  },
  {
   "cell_type": "code",
   "execution_count": 1,
   "id": "278ddded",
   "metadata": {},
   "outputs": [
    {
     "name": "stdout",
     "output_type": "stream",
     "text": [
      "Average grade 90.33333333333333\n",
      "Highest Grade: 100\n",
      "Lowest Grade: 78\n"
     ]
    }
   ],
   "source": [
    "grades = [85, 92, 78, 88, 99]\n",
    "\n",
    "\n",
    "## Adding new grade\n",
    "grades.append(100)\n",
    "\n",
    "# Calculatin average grade\n",
    "avg_grade = sum(grades) / len(grades)\n",
    "print(f\"Average grade {avg_grade}\")\n",
    "\n",
    "highest_grade = max(grades)\n",
    "lowest_grade = min(grades)\n",
    "\n",
    "print(f\"Highest Grade: {highest_grade}\")\n",
    "print(f\"Lowest Grade: {lowest_grade}\")\n"
   ]
  },
  {
   "cell_type": "markdown",
   "id": "5f5626f2",
   "metadata": {},
   "source": [
    "#### ```Managing the Inventory```"
   ]
  },
  {
   "cell_type": "code",
   "execution_count": 2,
   "id": "6da03416",
   "metadata": {},
   "outputs": [
    {
     "name": "stdout",
     "output_type": "stream",
     "text": [
      "orange is out of stock\n",
      "Inventory List\n",
      ".apple\n",
      ".orange\n",
      ".grapes\n",
      ".pineapple\n"
     ]
    }
   ],
   "source": [
    "inventory = [\"apple\", \"banana\", \"orange\", \"grapes\"]\n",
    "\n",
    "# Adding a new item\n",
    "inventory.append(\"pineapple\")\n",
    "\n",
    "# Removing an item that is out of stock\n",
    "inventory.remove(\"banana\")\n",
    "\n",
    "item = \"orange\"\n",
    "\n",
    "if iter in inventory:\n",
    "    print(f\"{item} in stock\")\n",
    "else:\n",
    "    print(f\"{item} is out of stock\")\n",
    "    \n",
    "## Print the inventory\n",
    "print(\"Inventory List\")\n",
    "for item in inventory:\n",
    "    print(f\".{item}\")"
   ]
  },
  {
   "cell_type": "markdown",
   "id": "4c97df5f",
   "metadata": {},
   "source": [
    "#### ```Feedback Count```"
   ]
  },
  {
   "cell_type": "code",
   "execution_count": 4,
   "id": "0c98e6d3",
   "metadata": {},
   "outputs": [
    {
     "name": "stdout",
     "output_type": "stream",
     "text": [
      "Postive Feedback: 2\n",
      "- Great service\n",
      "- very satisfied\n",
      "- could be better\n",
      "- Excellent experience\n",
      "- Not happy with the service\n"
     ]
    }
   ],
   "source": [
    "# Collecting user feedback\n",
    "feedback = [\"Great service\", \"very satisfied\", \"could be better\", \"Excellent experience\"]\n",
    "\n",
    "feedback.append(\"Not happy with the service\")\n",
    "\n",
    "# Counting positive feedback\n",
    "positive_feedback = sum(1 for comment in feedback if \"great\" in comment.lower() or \"excellent\" in comment.lower())\n",
    "print(f\"Postive Feedback: {positive_feedback}\")\n",
    "\n",
    "# Print user feedback\n",
    "for comment in feedback:\n",
    "    print(f\"- {comment}\")"
   ]
  }
 ],
 "metadata": {
  "kernelspec": {
   "display_name": "Python 3",
   "language": "python",
   "name": "python3"
  },
  "language_info": {
   "codemirror_mode": {
    "name": "ipython",
    "version": 3
   },
   "file_extension": ".py",
   "mimetype": "text/x-python",
   "name": "python",
   "nbconvert_exporter": "python",
   "pygments_lexer": "ipython3",
   "version": "3.12.0"
  }
 },
 "nbformat": 4,
 "nbformat_minor": 5
}
