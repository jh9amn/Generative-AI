{
 "cells": [
  {
   "cell_type": "markdown",
   "id": "97a1fa2e",
   "metadata": {},
   "source": [
    "## Introduction To List"
   ]
  },
  {
   "cell_type": "markdown",
   "id": "f811de1b",
   "metadata": {},
   "source": [
    "- Lists are ordered, mutable collectiob of items.\n",
    "- They can contain items of differect data types."
   ]
  },
  {
   "cell_type": "code",
   "execution_count": 75,
   "id": "2f338273",
   "metadata": {},
   "outputs": [
    {
     "name": "stdout",
     "output_type": "stream",
     "text": [
      "<class 'list'>\n",
      "<class 'list'>\n"
     ]
    }
   ],
   "source": [
    "lst = []\n",
    "print(type(lst))\n",
    "\n",
    "lst = list()\n",
    "print(type(lst))"
   ]
  },
  {
   "cell_type": "code",
   "execution_count": 76,
   "id": "ac90ac15",
   "metadata": {},
   "outputs": [
    {
     "name": "stdout",
     "output_type": "stream",
     "text": [
      "['Aman', 'John', 'Alice']\n"
     ]
    }
   ],
   "source": [
    "name = [\"Aman\", \"John\", \"Alice\"]\n",
    "print(name)\n"
   ]
  },
  {
   "cell_type": "code",
   "execution_count": 77,
   "id": "b805bb9b",
   "metadata": {},
   "outputs": [
    {
     "name": "stdout",
     "output_type": "stream",
     "text": [
      "[1, 2.5, 'Hello', True]\n"
     ]
    }
   ],
   "source": [
    "mixed_list = [1, 2.5, \"Hello\", True]\n",
    "print(mixed_list)"
   ]
  },
  {
   "cell_type": "markdown",
   "id": "5f5493ac",
   "metadata": {},
   "source": [
    "#### ```Accessing List Items```"
   ]
  },
  {
   "cell_type": "code",
   "execution_count": 78,
   "id": "8d568a85",
   "metadata": {},
   "outputs": [],
   "source": [
    "fruits = [\"apple\", \"banana\", \"cherry\", \"pineapple\", \"mango\", \"orange\"]\n"
   ]
  },
  {
   "cell_type": "code",
   "execution_count": 79,
   "id": "e201ff31",
   "metadata": {},
   "outputs": [
    {
     "name": "stdout",
     "output_type": "stream",
     "text": [
      "apple\n",
      "banana\n",
      "cherry\n",
      "orange\n",
      "mango\n"
     ]
    }
   ],
   "source": [
    "print(fruits[0])  # Output: apple\n",
    "print(fruits[1])  # Output: banana\n",
    "print(fruits[2])  # Output: cherry\n",
    "print(fruits[-1]) # Output: orange\n",
    "print(fruits[-2]) # Output: mango"
   ]
  },
  {
   "cell_type": "code",
   "execution_count": 80,
   "id": "0ff4ffba",
   "metadata": {},
   "outputs": [
    {
     "name": "stdout",
     "output_type": "stream",
     "text": [
      "['banana', 'cherry', 'pineapple', 'mango', 'orange']\n",
      "['banana', 'cherry']\n",
      "['orange']\n",
      "['apple', 'banana', 'cherry', 'pineapple']\n",
      "['cherry', 'pineapple', 'mango', 'orange']\n",
      "['apple', 'banana', 'cherry', 'pineapple', 'mango', 'orange']\n",
      "[]\n"
     ]
    }
   ],
   "source": [
    "print(fruits[1: ]) \n",
    "print(fruits[1:3]) \n",
    "print(fruits[-1:])\n",
    "print(fruits[:4])\n",
    "print(fruits[-4: ])\n",
    "print(fruits[:])\n",
    "print(fruits[-1:2])"
   ]
  },
  {
   "cell_type": "markdown",
   "id": "ac7469cc",
   "metadata": {},
   "source": [
    "#### ```Modifying List Elements```"
   ]
  },
  {
   "cell_type": "code",
   "execution_count": 81,
   "id": "39b8613a",
   "metadata": {},
   "outputs": [
    {
     "name": "stdout",
     "output_type": "stream",
     "text": [
      "['kiwi', 'banana', 'cherry', 'pineapple', 'mango', 'orange']\n"
     ]
    }
   ],
   "source": [
    "fruits[0] = \"kiwi\"\n",
    "print(fruits)"
   ]
  },
  {
   "cell_type": "code",
   "execution_count": 82,
   "id": "c9638cfb",
   "metadata": {},
   "outputs": [
    {
     "data": {
      "text/plain": [
       "['kiwi', 'b', 'l', 'a', 'c', 'k', 'b', 'e', 'r', 'r', 'y']"
      ]
     },
     "execution_count": 82,
     "metadata": {},
     "output_type": "execute_result"
    }
   ],
   "source": [
    "fruits[1:] = \"blackberry\"\n",
    "fruits"
   ]
  },
  {
   "cell_type": "code",
   "execution_count": 83,
   "id": "babcd803",
   "metadata": {},
   "outputs": [],
   "source": [
    "fruits = [\"apple\", \"banana\", \"cherry\", \"pineapple\", \"mango\", \"orange\"]\n"
   ]
  },
  {
   "cell_type": "markdown",
   "id": "cc310839",
   "metadata": {},
   "source": [
    "#### ```List Methods```"
   ]
  },
  {
   "cell_type": "code",
   "execution_count": 84,
   "id": "8c903bc3",
   "metadata": {},
   "outputs": [
    {
     "name": "stdout",
     "output_type": "stream",
     "text": [
      "['apple', 'banana', 'cherry', 'pineapple', 'mango', 'orange', 'grape']\n"
     ]
    }
   ],
   "source": [
    "fruits.append(\"grape\")      ## adds an item to the end of the list\n",
    "print(fruits)"
   ]
  },
  {
   "cell_type": "code",
   "execution_count": 85,
   "id": "2c6b0087",
   "metadata": {},
   "outputs": [
    {
     "name": "stdout",
     "output_type": "stream",
     "text": [
      "['apple', 'muskmelon', 'banana', 'cherry', 'pineapple', 'mango', 'orange', 'grape']\n"
     ]
    }
   ],
   "source": [
    "fruits.insert(1,\"muskmelon\")    ## muskmelon is added at index 1 without removing any other elements\n",
    "print(fruits)"
   ]
  },
  {
   "cell_type": "code",
   "execution_count": 86,
   "id": "c00d0091",
   "metadata": {},
   "outputs": [
    {
     "name": "stdout",
     "output_type": "stream",
     "text": [
      "['apple', 'muskmelon', 'banana', 'pineapple', 'mango', 'orange', 'grape']\n"
     ]
    }
   ],
   "source": [
    "fruits.remove(\"cherry\") ## removing the first occurence of an item\n",
    "print(fruits)"
   ]
  },
  {
   "cell_type": "code",
   "execution_count": 87,
   "id": "725897f9",
   "metadata": {},
   "outputs": [
    {
     "name": "stdout",
     "output_type": "stream",
     "text": [
      "grape\n",
      "['apple', 'muskmelon', 'banana', 'pineapple', 'mango', 'orange']\n"
     ]
    }
   ],
   "source": [
    "## remove and return the last item\n",
    "popped_fruits = fruits.pop()\n",
    "print(popped_fruits)\n",
    "print(fruits)"
   ]
  },
  {
   "cell_type": "code",
   "execution_count": 88,
   "id": "ce51e936",
   "metadata": {},
   "outputs": [
    {
     "name": "stdout",
     "output_type": "stream",
     "text": [
      "2\n"
     ]
    }
   ],
   "source": [
    "index = fruits.index(\"banana\")\n",
    "print(index)"
   ]
  },
  {
   "cell_type": "code",
   "execution_count": 89,
   "id": "47539272",
   "metadata": {},
   "outputs": [
    {
     "name": "stdout",
     "output_type": "stream",
     "text": [
      "2\n"
     ]
    }
   ],
   "source": [
    "fruits.insert(2, \"banana\")\n",
    "print(fruits.count(\"banana\"))   ## counting number of particular element"
   ]
  },
  {
   "cell_type": "code",
   "execution_count": 90,
   "id": "19b34adc",
   "metadata": {},
   "outputs": [
    {
     "data": {
      "text/plain": [
       "['apple', 'muskmelon', 'banana', 'banana', 'pineapple', 'mango', 'orange']"
      ]
     },
     "execution_count": 90,
     "metadata": {},
     "output_type": "execute_result"
    }
   ],
   "source": [
    "fruits"
   ]
  },
  {
   "cell_type": "code",
   "execution_count": 91,
   "id": "70a1a2a0",
   "metadata": {},
   "outputs": [],
   "source": [
    "fruits.sort()"
   ]
  },
  {
   "cell_type": "code",
   "execution_count": 92,
   "id": "b10756b0",
   "metadata": {},
   "outputs": [
    {
     "data": {
      "text/plain": [
       "['apple', 'banana', 'banana', 'mango', 'muskmelon', 'orange', 'pineapple']"
      ]
     },
     "execution_count": 92,
     "metadata": {},
     "output_type": "execute_result"
    }
   ],
   "source": [
    "fruits"
   ]
  },
  {
   "cell_type": "code",
   "execution_count": 93,
   "id": "b7ff8a2a",
   "metadata": {},
   "outputs": [
    {
     "data": {
      "text/plain": [
       "['pineapple', 'orange', 'muskmelon', 'mango', 'banana', 'banana', 'apple']"
      ]
     },
     "execution_count": 93,
     "metadata": {},
     "output_type": "execute_result"
    }
   ],
   "source": [
    "fruits.reverse()\n",
    "fruits"
   ]
  },
  {
   "cell_type": "code",
   "execution_count": 94,
   "id": "9b41b589",
   "metadata": {},
   "outputs": [
    {
     "data": {
      "text/plain": [
       "[]"
      ]
     },
     "execution_count": 94,
     "metadata": {},
     "output_type": "execute_result"
    }
   ],
   "source": [
    "fruits.clear()  ## remove all items from list\n",
    "fruits"
   ]
  },
  {
   "cell_type": "markdown",
   "id": "af347261",
   "metadata": {},
   "source": [
    "#### ```Slicing List```"
   ]
  },
  {
   "cell_type": "code",
   "execution_count": 95,
   "id": "46e10138",
   "metadata": {},
   "outputs": [
    {
     "name": "stdout",
     "output_type": "stream",
     "text": [
      "[3, 4, 5]\n",
      "[1, 2, 3, 4, 5]\n",
      "[6, 7, 8, 9, 10]\n",
      "[1, 3, 5, 7, 9]\n",
      "[10, 9, 8, 7, 6, 5, 4, 3, 2, 1]\n",
      "[10, 8, 6, 4, 2]\n"
     ]
    }
   ],
   "source": [
    "numbers = [1,2,3,4,5,6,7,8,9,10]\n",
    "print(numbers[2:5])\n",
    "print(numbers[:5])\n",
    "print(numbers[5:])\n",
    "print(numbers[::2])     ## jumps 2-2 steps\n",
    "print(numbers[::-1])\n",
    "print(numbers[::-2])    ## jumps 2-2 step from last"
   ]
  },
  {
   "cell_type": "code",
   "execution_count": 96,
   "id": "9079a6e9",
   "metadata": {},
   "outputs": [
    {
     "name": "stdout",
     "output_type": "stream",
     "text": [
      "1\n",
      "2\n",
      "3\n",
      "4\n",
      "5\n",
      "6\n",
      "7\n",
      "8\n",
      "9\n",
      "10\n"
     ]
    }
   ],
   "source": [
    "for number in numbers:\n",
    "    print(number)"
   ]
  },
  {
   "cell_type": "markdown",
   "id": "8192e391",
   "metadata": {},
   "source": [
    "#### ```Iterate with index```"
   ]
  },
  {
   "cell_type": "code",
   "execution_count": 97,
   "id": "fcd580d7",
   "metadata": {},
   "outputs": [
    {
     "name": "stdout",
     "output_type": "stream",
     "text": [
      "0 1\n",
      "1 2\n",
      "2 3\n",
      "3 4\n",
      "4 5\n",
      "5 6\n",
      "6 7\n",
      "7 8\n",
      "8 9\n",
      "9 10\n"
     ]
    }
   ],
   "source": [
    "for index,number in enumerate(numbers):\n",
    "    print(index,number)"
   ]
  },
  {
   "cell_type": "markdown",
   "id": "b85526db",
   "metadata": {},
   "source": [
    "#### ```List Comprehension```"
   ]
  },
  {
   "cell_type": "code",
   "execution_count": 98,
   "id": "3397ca6d",
   "metadata": {},
   "outputs": [
    {
     "name": "stdout",
     "output_type": "stream",
     "text": [
      "[0, 1, 4, 9, 16, 25, 36, 49, 64, 81]\n"
     ]
    }
   ],
   "source": [
    "lst = []\n",
    "for x in range(10):\n",
    "    lst.append(x**2)\n",
    "\n",
    "print(lst)"
   ]
  },
  {
   "cell_type": "code",
   "execution_count": 99,
   "id": "7bbbba7f",
   "metadata": {},
   "outputs": [
    {
     "data": {
      "text/plain": [
       "[0, 1, 4, 9, 16, 25, 36, 49, 64, 81]"
      ]
     },
     "execution_count": 99,
     "metadata": {},
     "output_type": "execute_result"
    }
   ],
   "source": [
    "## Now comprehense the list\n",
    "[x**2 for x in range(10)]"
   ]
  },
  {
   "cell_type": "markdown",
   "id": "ff4aafdd",
   "metadata": {},
   "source": [
    "##### ```List Comprehension Basic Syntax```\n",
    "\n",
    "- Basic Syntax\n",
    "> [expression for item in iterable]\n",
    "\n",
    "\n",
    "- With Some Conditional Logic\n",
    "> [expression for item in iterable if condition]\n",
    "\n",
    "- Nested List Comprehension\n",
    "> [expression for item in iterable for item2 in iterable2]"
   ]
  },
  {
   "cell_type": "code",
   "execution_count": 100,
   "id": "64bf203e",
   "metadata": {},
   "outputs": [
    {
     "name": "stdout",
     "output_type": "stream",
     "text": [
      "[0, 1, 4, 9, 16, 25, 36, 49, 64, 81]\n"
     ]
    }
   ],
   "source": [
    "### Basic List comprehension\n",
    "square = [num**2 for num in range(10)]\n",
    "print(square)\n"
   ]
  },
  {
   "cell_type": "code",
   "execution_count": 101,
   "id": "83da5ec3",
   "metadata": {},
   "outputs": [
    {
     "name": "stdout",
     "output_type": "stream",
     "text": [
      "[0, 2, 4, 6, 8]\n",
      "[0, 2, 4, 6, 8]\n"
     ]
    }
   ],
   "source": [
    "### List compression with some condition\n",
    "lst = []\n",
    "for i in range(10):\n",
    "    if i%2 == 0:\n",
    "        lst.append(i)\n",
    "\n",
    "print(lst)\n",
    "\n",
    "lst_compress = [num for num in range(10) if num%2==0]\n",
    "print(lst_compress)"
   ]
  },
  {
   "cell_type": "code",
   "execution_count": 102,
   "id": "3eca6d51",
   "metadata": {},
   "outputs": [
    {
     "name": "stdout",
     "output_type": "stream",
     "text": [
      "[[1, 'a'], [1, 'b'], [1, 'c'], [1, 'd'], [2, 'a'], [2, 'b'], [2, 'c'], [2, 'd'], [3, 'a'], [3, 'b'], [3, 'c'], [3, 'd']]\n"
     ]
    }
   ],
   "source": [
    "### Nested List Comprehension with loops\n",
    "lst1 = [1, 2, 3]\n",
    "lst2 = ['a', 'b', 'c', 'd']\n",
    "\n",
    "pair = [[i,j] for i in lst1 for j in lst2]\n",
    "print(pair)"
   ]
  },
  {
   "cell_type": "code",
   "execution_count": 103,
   "id": "60492666",
   "metadata": {},
   "outputs": [
    {
     "name": "stdout",
     "output_type": "stream",
     "text": [
      "[5, 5, 6, 4, 13]\n"
     ]
    }
   ],
   "source": [
    "### List Comprehension with function calls\n",
    "words = [\"hello\", \"world\", \"python\", \"list\", \"comprehension\"]\n",
    "lenghts = [len(word) for word in words]\n",
    "print(lenghts)\n"
   ]
  },
  {
   "cell_type": "code",
   "execution_count": 104,
   "id": "a09a9c5b",
   "metadata": {},
   "outputs": [
    {
     "name": "stdout",
     "output_type": "stream",
     "text": [
      "[[2, 'even'], [3, 'odd'], [4, 'even'], [5, 'odd'], [6, 'even']]\n"
     ]
    }
   ],
   "source": [
    "### List comprehension with if else condtion (ternery opeartor style)\n",
    "numbers = [2, 3, 4, 5 , 6]\n",
    "even_num = [[num,\"even\"] if num%2==0 else [num,\"odd\"] for num in numbers]\n",
    "print(even_num)"
   ]
  },
  {
   "cell_type": "code",
   "execution_count": 105,
   "id": "589d11cf",
   "metadata": {},
   "outputs": [
    {
     "name": "stdout",
     "output_type": "stream",
     "text": [
      "['zero', 'odd', 'even', 'odd', 'even', 'odd', 'even']\n"
     ]
    }
   ],
   "source": [
    "### List comprehension with Nested if and else condition\n",
    "numbers = [0, 1, 2, 3, 4, 5 , 6]\n",
    "nested_comprehension = [\n",
    "    \"zero\" if num==0 else\n",
    "    \"even\" if num%2==0 else\n",
    "    \"odd\"\n",
    "    for num in numbers\n",
    "]\n",
    "\n",
    "print(nested_comprehension)\n"
   ]
  },
  {
   "cell_type": "code",
   "execution_count": 106,
   "id": "71f53dfa",
   "metadata": {},
   "outputs": [
    {
     "name": "stdout",
     "output_type": "stream",
     "text": [
      "[[12, 'not divisble'], [14, 'not divisble'], [15, 'divisible'], [18, 'not divisble'], [20, 'divisible']]\n"
     ]
    }
   ],
   "source": [
    "### List comprehension with multiple conditions\n",
    "numbers =  [2, 3, 4, 5, 7, 10, 12, 14, 15, 18, 20]\n",
    "multiple_condition_lst_comprehension = [\n",
    "    [num, \"divisible\"] if num%5==0 else [num, \"not divisble\"] for num in numbers if num > 10\n",
    "]\n",
    "\n",
    "print(multiple_condition_lst_comprehension)"
   ]
  },
  {
   "cell_type": "markdown",
   "id": "e71f2b2d",
   "metadata": {},
   "source": [
    "#### ```Nested List```"
   ]
  },
  {
   "cell_type": "code",
   "execution_count": null,
   "id": "8a504c13",
   "metadata": {},
   "outputs": [
    {
     "name": "stdout",
     "output_type": "stream",
     "text": [
      "4\n",
      "[6, 7, 8]\n",
      "[1, 'Hello', 1.14, 'A']\n"
     ]
    }
   ],
   "source": [
    "lst = [[1,2,3,4], \n",
    "       [6,7,8,9],\n",
    "       [1,\"Hello\",1.14,'A']\n",
    "      ]\n",
    "print(lst[0][3])\n",
    "print(lst[1][0:3])            ## slicing\n",
    "print(lst[2])"
   ]
  },
  {
   "cell_type": "markdown",
   "id": "d5258960",
   "metadata": {},
   "source": [
    "#### Conclusion\n",
    "List comprehension are a powerful and concise way to create lists in python. They are syntactically compact and can more replace more varbose looping constructs. Understanding the syntax of list comprehension will help you write cleaner and more efficient Python code. 👍"
   ]
  }
 ],
 "metadata": {
  "kernelspec": {
   "display_name": "Python 3",
   "language": "python",
   "name": "python3"
  },
  "language_info": {
   "codemirror_mode": {
    "name": "ipython",
    "version": 3
   },
   "file_extension": ".py",
   "mimetype": "text/x-python",
   "name": "python",
   "nbconvert_exporter": "python",
   "pygments_lexer": "ipython3",
   "version": "3.12.0"
  }
 },
 "nbformat": 4,
 "nbformat_minor": 5
}
