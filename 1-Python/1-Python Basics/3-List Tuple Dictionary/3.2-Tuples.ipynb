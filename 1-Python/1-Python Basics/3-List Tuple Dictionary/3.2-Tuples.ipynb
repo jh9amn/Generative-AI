{
 "cells": [
  {
   "cell_type": "markdown",
   "id": "8dfe4846",
   "metadata": {},
   "source": [
    "## Introduction to Tuple\n",
    "- Tuples are ordered collection of items that are immutable.\n",
    "- They are similar to lists, but their immutablity makes them different."
   ]
  },
  {
   "cell_type": "code",
   "execution_count": 32,
   "id": "55bab2ec",
   "metadata": {},
   "outputs": [
    {
     "name": "stdout",
     "output_type": "stream",
     "text": [
      "()\n",
      "<class 'tuple'>\n"
     ]
    }
   ],
   "source": [
    "## creating a tuple\n",
    "empty_tuple = ()\n",
    "print(empty_tuple)\n",
    "print(type(empty_tuple))\n"
   ]
  },
  {
   "cell_type": "code",
   "execution_count": 33,
   "id": "74893176",
   "metadata": {},
   "outputs": [
    {
     "name": "stdout",
     "output_type": "stream",
     "text": [
      "<class 'list'>\n",
      "<class 'tuple'>\n"
     ]
    }
   ],
   "source": [
    "## Tuple class and List class\n",
    "lst = list()\n",
    "print(type(lst))\n",
    "tpl = tuple()\n",
    "print(type(tpl))"
   ]
  },
  {
   "cell_type": "code",
   "execution_count": 34,
   "id": "1f9da24a",
   "metadata": {},
   "outputs": [
    {
     "name": "stdout",
     "output_type": "stream",
     "text": [
      "(1, 2, 3, 4, 5, 6)\n"
     ]
    }
   ],
   "source": [
    "numbers = tuple([1,2,3,4,5,6])      ## converted List into tuple\n",
    "print(numbers)"
   ]
  },
  {
   "cell_type": "code",
   "execution_count": 35,
   "id": "da451c1d",
   "metadata": {},
   "outputs": [
    {
     "name": "stdout",
     "output_type": "stream",
     "text": [
      "[1, 2, 3, 4, 5.6]\n"
     ]
    }
   ],
   "source": [
    "lst = list((1,2,3,4,5.6))           ## converted tuple into List\n",
    "print(lst)"
   ]
  },
  {
   "cell_type": "code",
   "execution_count": 36,
   "id": "0cf4cb0d",
   "metadata": {},
   "outputs": [
    {
     "name": "stdout",
     "output_type": "stream",
     "text": [
      "(1, 'Aman', True, 1.244)\n"
     ]
    }
   ],
   "source": [
    "mixed_tuple = (1, \"Aman\", True, 1.244)\n",
    "print(mixed_tuple)"
   ]
  },
  {
   "cell_type": "markdown",
   "id": "6d9b0592",
   "metadata": {},
   "source": [
    "#### ```Accessing Tuple Elements```"
   ]
  },
  {
   "cell_type": "code",
   "execution_count": 37,
   "id": "63550acf",
   "metadata": {},
   "outputs": [
    {
     "data": {
      "text/plain": [
       "(1, 2, 3, 4, 5, 6)"
      ]
     },
     "execution_count": 37,
     "metadata": {},
     "output_type": "execute_result"
    }
   ],
   "source": [
    "numbers"
   ]
  },
  {
   "cell_type": "code",
   "execution_count": 38,
   "id": "3da4e02e",
   "metadata": {},
   "outputs": [
    {
     "name": "stdout",
     "output_type": "stream",
     "text": [
      "3\n",
      "6\n"
     ]
    }
   ],
   "source": [
    "print(numbers[2])\n",
    "print(numbers[-1])"
   ]
  },
  {
   "cell_type": "code",
   "execution_count": 39,
   "id": "6bfac2a3",
   "metadata": {},
   "outputs": [
    {
     "name": "stdout",
     "output_type": "stream",
     "text": [
      "(1, 2, 3, 4)\n",
      "(6, 5, 4, 3, 2, 1)\n"
     ]
    }
   ],
   "source": [
    "print(numbers[0:4])\n",
    "print(numbers[::-1])"
   ]
  },
  {
   "cell_type": "markdown",
   "id": "6d005f6d",
   "metadata": {},
   "source": [
    "#### ```Tuple Operations```"
   ]
  },
  {
   "cell_type": "code",
   "execution_count": 40,
   "id": "e018c3f8",
   "metadata": {},
   "outputs": [
    {
     "name": "stdout",
     "output_type": "stream",
     "text": [
      "(1, 2, 3, 4, 5, 6, 1, 'Aman', True, 1.244)\n"
     ]
    }
   ],
   "source": [
    "## Tuples concatinations\n",
    "concatinated_tuple = numbers + mixed_tuple\n",
    "print(concatinated_tuple)"
   ]
  },
  {
   "cell_type": "code",
   "execution_count": 41,
   "id": "dec1a6bd",
   "metadata": {},
   "outputs": [
    {
     "data": {
      "text/plain": [
       "(1, 'Aman', True, 1.244, 1, 'Aman', True, 1.244, 1, 'Aman', True, 1.244)"
      ]
     },
     "execution_count": 41,
     "metadata": {},
     "output_type": "execute_result"
    }
   ],
   "source": [
    "mixed_tuple * 3     ## apending mixed tuple 3 times"
   ]
  },
  {
   "cell_type": "code",
   "execution_count": 42,
   "id": "900821aa",
   "metadata": {},
   "outputs": [
    {
     "data": {
      "text/plain": [
       "(1, 2, 3, 4, 5, 6, 1, 2, 3, 4, 5, 6)"
      ]
     },
     "execution_count": 42,
     "metadata": {},
     "output_type": "execute_result"
    }
   ],
   "source": [
    "numbers * 2         ## apending numbers 2 times"
   ]
  },
  {
   "cell_type": "markdown",
   "id": "d599c60d",
   "metadata": {},
   "source": [
    "#### ```Immutable nature of tuple```"
   ]
  },
  {
   "cell_type": "code",
   "execution_count": 43,
   "id": "09d48883",
   "metadata": {},
   "outputs": [
    {
     "name": "stdout",
     "output_type": "stream",
     "text": [
      "[1, 2, 3, 4, 5]\n",
      "[1, 'Aman', 3, 4, 5]\n"
     ]
    }
   ],
   "source": [
    "## Tuples are immutable, meaning their element cannot be changed once assigned...\n",
    "lst = [1,2,3,4,5]\n",
    "print(lst)\n",
    "\n",
    "lst[1] = \"Aman\"\n",
    "print(lst)"
   ]
  },
  {
   "cell_type": "code",
   "execution_count": 44,
   "id": "9d668cfd",
   "metadata": {},
   "outputs": [
    {
     "name": "stdout",
     "output_type": "stream",
     "text": [
      "(5, 6, 7, 8, 9)\n"
     ]
    }
   ],
   "source": [
    "tup = (5,6,7,8,9)\n",
    "print(tup)"
   ]
  },
  {
   "cell_type": "code",
   "execution_count": null,
   "id": "a8476fd6",
   "metadata": {},
   "outputs": [
    {
     "ename": "TypeError",
     "evalue": "'tuple' object does not support item assignment",
     "output_type": "error",
     "traceback": [
      "\u001b[31m---------------------------------------------------------------------------\u001b[39m",
      "\u001b[31mTypeError\u001b[39m                                 Traceback (most recent call last)",
      "\u001b[36mCell\u001b[39m\u001b[36m \u001b[39m\u001b[32mIn[46]\u001b[39m\u001b[32m, line 2\u001b[39m\n\u001b[32m      1\u001b[39m \u001b[38;5;66;03m## try to change the index 0th value\u001b[39;00m\n\u001b[32m----> \u001b[39m\u001b[32m2\u001b[39m \u001b[43mtup\u001b[49m\u001b[43m[\u001b[49m\u001b[32;43m0\u001b[39;49m\u001b[43m]\u001b[49m = \u001b[32m10\u001b[39m\n\u001b[32m      3\u001b[39m \u001b[38;5;28mprint\u001b[39m(tup)\n\u001b[32m      5\u001b[39m \u001b[38;5;66;03m## you cannot change the element of tuple\u001b[39;00m\n\u001b[32m      6\u001b[39m \u001b[38;5;66;03m## for change the tuple value:\u001b[39;00m\n\u001b[32m      7\u001b[39m \u001b[38;5;66;03m###     1) change it to list\u001b[39;00m\n\u001b[32m      8\u001b[39m \u001b[38;5;66;03m###      2) change the value\u001b[39;00m\n\u001b[32m      9\u001b[39m \u001b[38;5;66;03m###     3) again convert into  tuple\u001b[39;00m\n",
      "\u001b[31mTypeError\u001b[39m: 'tuple' object does not support item assignment"
     ]
    }
   ],
   "source": [
    "## try to change the index 0th value\n",
    "tup[0] = 10\n",
    "print(tup)\n",
    "\n",
    "## you cannot change the element of tuple\n",
    "## for change the tuple value:\n",
    "###     1) change it to list\n",
    "###     2) change the value\n",
    "###     3) again convert into  tuple"
   ]
  },
  {
   "cell_type": "markdown",
   "id": "1597aad2",
   "metadata": {},
   "source": [
    "#### ```Tuple Methods```"
   ]
  },
  {
   "cell_type": "code",
   "execution_count": null,
   "id": "96d68be5",
   "metadata": {},
   "outputs": [
    {
     "name": "stdout",
     "output_type": "stream",
     "text": [
      "1\n",
      "3\n"
     ]
    }
   ],
   "source": [
    "print(tup.count(5))     ## number of count of element 5\n",
    "print(tup.index(8))     ## index of element 8"
   ]
  },
  {
   "cell_type": "markdown",
   "id": "da276d8b",
   "metadata": {},
   "source": [
    "#### ```Packing and Unpacking tuple```"
   ]
  },
  {
   "cell_type": "code",
   "execution_count": null,
   "id": "738347ba",
   "metadata": {},
   "outputs": [
    {
     "name": "stdout",
     "output_type": "stream",
     "text": [
      "(1, 'Aman', 3.14)\n"
     ]
    }
   ],
   "source": [
    "## packing into a tuple\n",
    "packed_tup = 1, \"Aman\", 3.14\n",
    "print(packed_tup)"
   ]
  },
  {
   "cell_type": "code",
   "execution_count": 52,
   "id": "57676f15",
   "metadata": {},
   "outputs": [
    {
     "name": "stdout",
     "output_type": "stream",
     "text": [
      "1\n",
      "Aman\n",
      "3.14\n"
     ]
    }
   ],
   "source": [
    "## Unpacking a tuple\n",
    "a, b, c = packed_tup\n",
    "print(a)\n",
    "print(b)\n",
    "print(c)"
   ]
  },
  {
   "cell_type": "code",
   "execution_count": 54,
   "id": "b407336b",
   "metadata": {},
   "outputs": [
    {
     "name": "stdout",
     "output_type": "stream",
     "text": [
      "1\n",
      "[2, 3, 4, 5, 6, 7]\n",
      "8\n"
     ]
    }
   ],
   "source": [
    "## Unpacking with *\n",
    "numbers = (1,2,3,4,5,6,7,8)\n",
    "first, *middle, last = numbers\n",
    "print(first)\n",
    "print(middle)\n",
    "print(last)"
   ]
  },
  {
   "cell_type": "markdown",
   "id": "7843dd38",
   "metadata": {},
   "source": [
    "#### ```Nested Tuple```"
   ]
  },
  {
   "cell_type": "code",
   "execution_count": 55,
   "id": "67af4392",
   "metadata": {},
   "outputs": [
    {
     "name": "stdout",
     "output_type": "stream",
     "text": [
      "(6, 7, 8)\n"
     ]
    }
   ],
   "source": [
    "## Tuple inside list\n",
    "lst = [(1,2,3,4), \n",
    "       (6,7,8,9),\n",
    "       [1,\"Hello\",1.14,'A']\n",
    "      ]\n",
    "print(lst[1][0:3])"
   ]
  },
  {
   "cell_type": "code",
   "execution_count": 58,
   "id": "32c8a60a",
   "metadata": {},
   "outputs": [
    {
     "name": "stdout",
     "output_type": "stream",
     "text": [
      "(1, 2, 3)\n",
      "c\n"
     ]
    }
   ],
   "source": [
    "## Tuple inside the tuple\n",
    "nested_tuple = ((1,2,3,),(\"a\",\"b\",\"c\"),(True,1.032,'r'))\n",
    "\n",
    "print(nested_tuple[0])\n",
    "print(nested_tuple[1][2])"
   ]
  },
  {
   "cell_type": "markdown",
   "id": "6297edbc",
   "metadata": {},
   "source": [
    "#### ```Iterating Over Nested Tuple``` "
   ]
  },
  {
   "cell_type": "code",
   "execution_count": 59,
   "id": "3c381098",
   "metadata": {},
   "outputs": [
    {
     "name": "stdout",
     "output_type": "stream",
     "text": [
      "1 2 3 \n",
      "a b c \n",
      "True 1.032 r \n"
     ]
    }
   ],
   "source": [
    "for sub_tuple in nested_tuple:\n",
    "    for item in sub_tuple:\n",
    "        print(item, end=\" \")\n",
    "    print()"
   ]
  },
  {
   "cell_type": "markdown",
   "id": "37aa8b6c",
   "metadata": {},
   "source": [
    "### Conclusion:\n",
    "Tuples are versatile and useful in many real-world scenarios where an immutable and ordered collection of items is required. They are commonly used in data structures, function arguments and return values, and as dictionary keys,. Understanding how to leverage tuples effictively can improve the efficiency and readablity of your Python code. 🤞👍"
   ]
  }
 ],
 "metadata": {
  "kernelspec": {
   "display_name": "Python 3",
   "language": "python",
   "name": "python3"
  },
  "language_info": {
   "codemirror_mode": {
    "name": "ipython",
    "version": 3
   },
   "file_extension": ".py",
   "mimetype": "text/x-python",
   "name": "python",
   "nbconvert_exporter": "python",
   "pygments_lexer": "ipython3",
   "version": "3.12.0"
  }
 },
 "nbformat": 4,
 "nbformat_minor": 5
}
