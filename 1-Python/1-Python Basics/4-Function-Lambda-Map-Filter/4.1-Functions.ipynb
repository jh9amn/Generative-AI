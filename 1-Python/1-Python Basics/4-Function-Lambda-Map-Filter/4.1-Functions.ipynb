{
 "cells": [
  {
   "cell_type": "markdown",
   "id": "cfe9f05d",
   "metadata": {},
   "source": [
    "## Introduction to Function\n",
    "\n",
    "1. Introduction to function\n",
    "2. Defining a function\n",
    "3. Calling a function\n",
    "4. Function Parameters\n",
    "5. Default Parameters\n",
    "6. Variable-length Arguments\n",
    "7. Return Statement"
   ]
  },
  {
   "cell_type": "markdown",
   "id": "3d9c181c",
   "metadata": {},
   "source": [
    "#### ```Introduction to Function```\n",
    "\n",
    "Definition:\n",
    "- A function is a block of code that perfomrs a specific task. Function help in organizing code, reusing code, and improving readability."
   ]
  },
  {
   "cell_type": "code",
   "execution_count": null,
   "id": "b3935efb",
   "metadata": {},
   "outputs": [],
   "source": [
    "## Syntax\n",
    "def function_name(parameters):\n",
    "    \"Docstring\"\n",
    "    # function body\n",
    "    return expression"
   ]
  },
  {
   "cell_type": "code",
   "execution_count": 3,
   "id": "c06fcaf6",
   "metadata": {},
   "outputs": [],
   "source": [
    "def even_or_odd(num):       ## num is parameter\n",
    "    if num%2==0:\n",
    "        print(\"Even\")\n",
    "    else:\n",
    "        print(\"odd\")"
   ]
  },
  {
   "cell_type": "code",
   "execution_count": 4,
   "id": "744208f7",
   "metadata": {},
   "outputs": [
    {
     "name": "stdout",
     "output_type": "stream",
     "text": [
      "odd\n"
     ]
    }
   ],
   "source": [
    "# Call the function\n",
    "even_or_odd(45)"
   ]
  },
  {
   "cell_type": "code",
   "execution_count": 5,
   "id": "4f323ce1",
   "metadata": {},
   "outputs": [
    {
     "name": "stdout",
     "output_type": "stream",
     "text": [
      "9\n"
     ]
    }
   ],
   "source": [
    "def add(a,b):\n",
    "    return a+b\n",
    "\n",
    "print(add(5,4))"
   ]
  },
  {
   "cell_type": "code",
   "execution_count": 6,
   "id": "6ada8f6c",
   "metadata": {},
   "outputs": [
    {
     "name": "stdout",
     "output_type": "stream",
     "text": [
      "Hello Aman! Welecome to the playground.\n"
     ]
    }
   ],
   "source": [
    "## Default Parameter\n",
    "def greet(name):\n",
    "    print(f\"Hello {name}! Welecome to the playground.\")\n",
    "    \n",
    "greet(\"Aman\")"
   ]
  },
  {
   "cell_type": "code",
   "execution_count": 10,
   "id": "9c55c407",
   "metadata": {},
   "outputs": [
    {
     "name": "stdout",
     "output_type": "stream",
     "text": [
      "Hello Guest! Welecome to the playground.\n",
      "Hello Raj! Welecome to the playground.\n"
     ]
    }
   ],
   "source": [
    "## Default Parameter\n",
    "def greeting(name = \"Guest\"):\n",
    "    print(f\"Hello {name}! Welecome to the playground.\")\n",
    "    \n",
    "greeting()\n",
    "greeting(\"Raj\")"
   ]
  },
  {
   "cell_type": "code",
   "execution_count": null,
   "id": "bc3189f5",
   "metadata": {},
   "outputs": [
    {
     "name": "stdout",
     "output_type": "stream",
     "text": [
      "1\n",
      "2\n",
      "3\n",
      "4\n",
      "5\n",
      "6\n",
      "7\n",
      "Aman\n"
     ]
    }
   ],
   "source": [
    "## Variable length arhuments\n",
    "## positional and Keyword arguments\n",
    "\n",
    "\n",
    "## Positional Arguments\n",
    "def print_numbers(*args):       \n",
    "    for number in args:\n",
    "        print(number)\n",
    "        \n",
    "        \n",
    "print_numbers(1,2,3,4,5,6,7,\"Aman\")\n",
    "    "
   ]
  },
  {
   "cell_type": "code",
   "execution_count": null,
   "id": "7ac859f8",
   "metadata": {},
   "outputs": [
    {
     "name": "stdout",
     "output_type": "stream",
     "text": [
      "name: Aman\n",
      "age: 23\n",
      "country: India\n"
     ]
    }
   ],
   "source": [
    "## Keyword Argument\n",
    "def print_details(**kwargs):        ## keyword argument have key value pair as argument\n",
    "    for key,value in kwargs.items():\n",
    "        print(f\"{key}: {value}\")\n",
    "        \n",
    "print_details(name=\"Aman\", age = \"23\", country = \"India\")"
   ]
  },
  {
   "cell_type": "code",
   "execution_count": null,
   "id": "47e175f4",
   "metadata": {},
   "outputs": [
    {
     "name": "stdout",
     "output_type": "stream",
     "text": [
      "Number: 1\n",
      "Number: 2\n",
      "Number: 3\n",
      "name: Aman\n",
      "age: 23\n",
      "country: India\n"
     ]
    }
   ],
   "source": [
    "def print_details(*args, **kwargs):       \n",
    "    for number in args:\n",
    "        print(f\"Number: {number}\")\n",
    "    \n",
    "    for key,value in kwargs.items():\n",
    "        print(f\"{key}: {value}\")\n",
    "        \n",
    "## while passing arguments positional arguments comes first them keyword arguments\n",
    "print_details(1,2,3,name=\"Aman\", age = \"23\", country = \"India\")\n",
    "        "
   ]
  },
  {
   "cell_type": "code",
   "execution_count": 15,
   "id": "223b76e7",
   "metadata": {},
   "outputs": [
    {
     "name": "stdout",
     "output_type": "stream",
     "text": [
      "20\n"
     ]
    }
   ],
   "source": [
    "## Return statement\n",
    "def mul(a,b):\n",
    "    return a*b\n",
    "\n",
    "print(mul(4,5))"
   ]
  },
  {
   "cell_type": "code",
   "execution_count": null,
   "id": "a3671d88",
   "metadata": {},
   "outputs": [
    {
     "name": "stdout",
     "output_type": "stream",
     "text": [
      "(20, 4, 5)\n"
     ]
    }
   ],
   "source": [
    "## we can return multiple parameter form a function in Python\n",
    "def mul(a,b):\n",
    "    return a*b, a, b\n",
    "\n",
    "print(mul(4,5))"
   ]
  }
 ],
 "metadata": {
  "kernelspec": {
   "display_name": "Python 3",
   "language": "python",
   "name": "python3"
  },
  "language_info": {
   "codemirror_mode": {
    "name": "ipython",
    "version": 3
   },
   "file_extension": ".py",
   "mimetype": "text/x-python",
   "name": "python",
   "nbconvert_exporter": "python",
   "pygments_lexer": "ipython3",
   "version": "3.12.0"
  }
 },
 "nbformat": 4,
 "nbformat_minor": 5
}
