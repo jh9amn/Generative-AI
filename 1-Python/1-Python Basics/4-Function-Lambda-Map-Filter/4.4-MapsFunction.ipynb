{
 "cells": [
  {
   "cell_type": "markdown",
   "id": "9bc0f297",
   "metadata": {},
   "source": [
    "### ```The Map() function in Python```\n",
    "\n",
    "- The map() function applied given function to all items in an input(or any other iterable) and return a map object (an iterator).\n",
    "- This is particularly useful for transforming a data in a list comprehensively."
   ]
  },
  {
   "cell_type": "markdown",
   "id": "528414ee",
   "metadata": {},
   "source": [
    "#####   ```Syntax:```\n",
    "> Map syntax :=> Map(function, iterator) --> return a Map object"
   ]
  },
  {
   "cell_type": "markdown",
   "id": "e64976eb",
   "metadata": {},
   "source": []
  },
  {
   "cell_type": "code",
   "execution_count": 1,
   "id": "7a33fd6a",
   "metadata": {},
   "outputs": [
    {
     "data": {
      "text/plain": [
       "100"
      ]
     },
     "execution_count": 1,
     "metadata": {},
     "output_type": "execute_result"
    }
   ],
   "source": [
    "def square(x):\n",
    "    return x**2\n",
    "\n",
    "square(10)"
   ]
  },
  {
   "cell_type": "code",
   "execution_count": null,
   "id": "8455697d",
   "metadata": {},
   "outputs": [
    {
     "data": {
      "text/plain": [
       "[1, 4, 9, 16, 25, 36, 49, 64, 81]"
      ]
     },
     "execution_count": 4,
     "metadata": {},
     "output_type": "execute_result"
    }
   ],
   "source": [
    "numbers = [1,2,3,4,5,6,7,8,9]\n",
    "\n",
    "## map syntax :=> map(function, iterator) --> return a map object\n",
    "\n",
    "## it applies the given function(square) to all the item of given list\n",
    "list(map(square, numbers))"
   ]
  },
  {
   "cell_type": "markdown",
   "id": "e5d57632",
   "metadata": {},
   "source": [
    "#### ```Lambda Function with Map```"
   ]
  },
  {
   "cell_type": "code",
   "execution_count": 5,
   "id": "65b4f8fd",
   "metadata": {},
   "outputs": [
    {
     "data": {
      "text/plain": [
       "[1, 4, 9, 16, 25, 36, 49, 64, 81]"
      ]
     },
     "execution_count": 5,
     "metadata": {},
     "output_type": "execute_result"
    }
   ],
   "source": [
    "numbers = [1,2,3,4,5,6,7,8,9]\n",
    "list(map(lambda x:x*x, numbers))"
   ]
  },
  {
   "cell_type": "markdown",
   "id": "9c10764e",
   "metadata": {},
   "source": [
    "### ```Map with Multiple Iterator```"
   ]
  },
  {
   "cell_type": "code",
   "execution_count": 8,
   "id": "1c2ec408",
   "metadata": {},
   "outputs": [
    {
     "name": "stdout",
     "output_type": "stream",
     "text": [
      "[3, 7, 11]\n"
     ]
    }
   ],
   "source": [
    "numbers1 = [1,3,5]\n",
    "numbers2 = [2,4,6]\n",
    "\n",
    "add_list = list(map(lambda x,y:x+y, numbers1, numbers2))\n",
    "print(add_list)"
   ]
  },
  {
   "cell_type": "markdown",
   "id": "8fa79f9a",
   "metadata": {},
   "source": [
    "#### ```map() to convert list of string to integer```"
   ]
  },
  {
   "cell_type": "code",
   "execution_count": null,
   "id": "aa007580",
   "metadata": {},
   "outputs": [
    {
     "name": "stdout",
     "output_type": "stream",
     "text": [
      "[1, 2, 3, 4, 5]\n"
     ]
    }
   ],
   "source": [
    "str_number = ['1', '2', '3', '4', '5']\n",
    "int_numbers = list(map(int, str_number))        ## type casting\n",
    "\n",
    "print(int_numbers)"
   ]
  },
  {
   "cell_type": "markdown",
   "id": "9fec0c93",
   "metadata": {},
   "source": [
    "#### ```map() to convert string of list into uppercase```"
   ]
  },
  {
   "cell_type": "code",
   "execution_count": 11,
   "id": "38e57fb9",
   "metadata": {},
   "outputs": [
    {
     "name": "stdout",
     "output_type": "stream",
     "text": [
      "['APPLE', 'CHERRY', 'BANANA', 'GUAVA']\n"
     ]
    }
   ],
   "source": [
    "words = [\"apple\", \"cherry\", \"banana\", \"guava\"]\n",
    "upper_words = list(map(str.upper, words))\n",
    "print(upper_words)"
   ]
  },
  {
   "cell_type": "markdown",
   "id": "0b34c3c3",
   "metadata": {},
   "source": [
    "#### ```map() to iterate on dictionary```"
   ]
  },
  {
   "cell_type": "code",
   "execution_count": 16,
   "id": "faf6c944",
   "metadata": {},
   "outputs": [
    {
     "data": {
      "text/plain": [
       "('Aman', 'Raj')"
      ]
     },
     "execution_count": 16,
     "metadata": {},
     "output_type": "execute_result"
    }
   ],
   "source": [
    "def getName(person):\n",
    "    return person['name']\n",
    "\n",
    "person = [\n",
    "    {\"name\": \"Aman\", \"age\": 24},\n",
    "    {\"name\" : \"Raj\", \"age\" : 25}\n",
    "]\n",
    "\n",
    "tuple(map(getName, person))"
   ]
  },
  {
   "cell_type": "markdown",
   "id": "d83c8b85",
   "metadata": {},
   "source": [
    "#### ```Conclusion```:\n",
    "- The map() function is a powerful tool for applying transformations to iteraable data structure.\n",
    "- It can be used with regular functions, lambda functions, and even multiple iterables, providing a versatile approach to data processing in Python.\n",
    "- By understanding and utilizing map(), you can write more efficient and readable code.🐎🤞"
   ]
  }
 ],
 "metadata": {
  "kernelspec": {
   "display_name": "Python 3",
   "language": "python",
   "name": "python3"
  },
  "language_info": {
   "codemirror_mode": {
    "name": "ipython",
    "version": 3
   },
   "file_extension": ".py",
   "mimetype": "text/x-python",
   "name": "python",
   "nbconvert_exporter": "python",
   "pygments_lexer": "ipython3",
   "version": "3.12.0"
  }
 },
 "nbformat": 4,
 "nbformat_minor": 5
}
