{
 "cells": [
  {
   "cell_type": "markdown",
   "id": "f80bd2f8",
   "metadata": {},
   "source": [
    "## ```Lambda Function in Python```\n",
    "\n",
    "- Lambda functions are small anonymous function defined using the lambda keyword.\n",
    "- They can have any number of arguments but only one expression.\n",
    "- They are commonly used for short operations or as arguments to higher-order-funtions."
   ]
  },
  {
   "cell_type": "markdown",
   "id": "69d81f34",
   "metadata": {},
   "source": [
    "#### Syntax\n",
    "> ```lambda arguments : expression```"
   ]
  },
  {
   "cell_type": "code",
   "execution_count": 13,
   "id": "91b97318",
   "metadata": {},
   "outputs": [
    {
     "name": "stdout",
     "output_type": "stream",
     "text": [
      "11\n"
     ]
    }
   ],
   "source": [
    "## Normal Function\n",
    "def addition(a,b):\n",
    "    return a+b\n",
    "\n",
    "print(addition(5,6))"
   ]
  },
  {
   "cell_type": "code",
   "execution_count": 14,
   "id": "84ff3bd4",
   "metadata": {},
   "outputs": [
    {
     "name": "stdout",
     "output_type": "stream",
     "text": [
      "<class 'function'>\n",
      "11\n"
     ]
    }
   ],
   "source": [
    "## Lambda Function\n",
    "add = lambda a,b: a+b\n",
    "\n",
    "print(type(add))\n",
    "print(add(5,6))     ## passing arguments into add variable"
   ]
  },
  {
   "cell_type": "code",
   "execution_count": 15,
   "id": "3e8dab4b",
   "metadata": {},
   "outputs": [
    {
     "name": "stdout",
     "output_type": "stream",
     "text": [
      "True\n"
     ]
    }
   ],
   "source": [
    "## Normal Function\n",
    "def even(num):\n",
    "    if num%2 == 0:\n",
    "        return True\n",
    "    \n",
    "print(even(10))"
   ]
  },
  {
   "cell_type": "code",
   "execution_count": 16,
   "id": "04bc91da",
   "metadata": {},
   "outputs": [
    {
     "name": "stdout",
     "output_type": "stream",
     "text": [
      "True\n",
      "False\n",
      "True\n"
     ]
    }
   ],
   "source": [
    "## Lambda Function\n",
    "even1 = lambda num:num%2==0\n",
    "print(even1(22))\n",
    "print(even1(19))\n",
    "print(even1(120))"
   ]
  },
  {
   "cell_type": "code",
   "execution_count": 17,
   "id": "621ab96d",
   "metadata": {},
   "outputs": [
    {
     "name": "stdout",
     "output_type": "stream",
     "text": [
      "33\n"
     ]
    }
   ],
   "source": [
    "## Normal function\n",
    "def add1(a,b,c):\n",
    "    return a+b+c\n",
    "    \n",
    "print(add1(10,11,12))"
   ]
  },
  {
   "cell_type": "code",
   "execution_count": 18,
   "id": "d112cc76",
   "metadata": {},
   "outputs": [
    {
     "name": "stdout",
     "output_type": "stream",
     "text": [
      "69\n"
     ]
    }
   ],
   "source": [
    "## With lambda function\n",
    "add2 = lambda a,b,c:a+b+c\n",
    "print(add2(22,23,24))"
   ]
  },
  {
   "cell_type": "markdown",
   "id": "f2e09b8b",
   "metadata": {},
   "source": [
    "#### ```Map() function using lambda expression```\n",
    "\n",
    "- ##### map() -> applies a function to all items in list"
   ]
  },
  {
   "cell_type": "code",
   "execution_count": 20,
   "id": "90a2a2bf",
   "metadata": {},
   "outputs": [
    {
     "name": "stdout",
     "output_type": "stream",
     "text": [
      "16\n"
     ]
    }
   ],
   "source": [
    "def square(number):\n",
    "    return number**2\n",
    "\n",
    "print(square(4))"
   ]
  },
  {
   "cell_type": "code",
   "execution_count": 25,
   "id": "b271b3ea",
   "metadata": {},
   "outputs": [
    {
     "data": {
      "text/plain": [
       "[1, 4, 9, 16, 25, 36]"
      ]
     },
     "execution_count": 25,
     "metadata": {},
     "output_type": "execute_result"
    }
   ],
   "source": [
    "numbers = [1, 2, 3, 4, 5, 6]\n",
    "\n",
    "## iterate over every ele and perform square of that numbers \n",
    "## map using lazy loading technique\n",
    "\n",
    "list(map(lambda x:x**2, numbers))       ## map(func, *iterables) --> map object"
   ]
  }
 ],
 "metadata": {
  "kernelspec": {
   "display_name": "Python 3",
   "language": "python",
   "name": "python3"
  },
  "language_info": {
   "codemirror_mode": {
    "name": "ipython",
    "version": 3
   },
   "file_extension": ".py",
   "mimetype": "text/x-python",
   "name": "python",
   "nbconvert_exporter": "python",
   "pygments_lexer": "ipython3",
   "version": "3.12.0"
  }
 },
 "nbformat": 4,
 "nbformat_minor": 5
}
