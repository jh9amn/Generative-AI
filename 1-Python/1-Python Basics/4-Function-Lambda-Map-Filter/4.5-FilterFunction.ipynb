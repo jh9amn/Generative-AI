{
 "cells": [
  {
   "cell_type": "markdown",
   "id": "ecd16161",
   "metadata": {},
   "source": [
    "### ```The filter() function in Python```\n",
    "- The filter() function constructs an iterator from elements of an iterable for which a function returns true. \n",
    "- It is used to filter out items from a list (or any other iterable) on a condition."
   ]
  },
  {
   "cell_type": "markdown",
   "id": "97507eb6",
   "metadata": {},
   "source": [
    "#####   ```Syntax:```\n",
    "> Filter syntax :=> filter(function, iterator) --> return a filter object"
   ]
  },
  {
   "cell_type": "code",
   "execution_count": 1,
   "id": "4baae02e",
   "metadata": {},
   "outputs": [
    {
     "data": {
      "text/plain": [
       "True"
      ]
     },
     "execution_count": 1,
     "metadata": {},
     "output_type": "execute_result"
    }
   ],
   "source": [
    "def even(num):\n",
    "    return num%2==0\n",
    "\n",
    "even(28)"
   ]
  },
  {
   "cell_type": "code",
   "execution_count": null,
   "id": "5e307d89",
   "metadata": {},
   "outputs": [
    {
     "name": "stdout",
     "output_type": "stream",
     "text": [
      "[2, 4, 6, 8]\n"
     ]
    }
   ],
   "source": [
    "lst = [1,2,3,4,5,6,7,8,9]\n",
    "fltr_lst = list(filter(even, lst))      ## filter the particular elements\n",
    "print(fltr_lst)"
   ]
  },
  {
   "cell_type": "markdown",
   "id": "92618048",
   "metadata": {},
   "source": [
    "#### ```Filter with Lambda function```"
   ]
  },
  {
   "cell_type": "code",
   "execution_count": 5,
   "id": "916c9e0a",
   "metadata": {},
   "outputs": [
    {
     "name": "stdout",
     "output_type": "stream",
     "text": [
      "[34, 53, 43, 32, 54, 51]\n"
     ]
    }
   ],
   "source": [
    "numbers = [10, 13, 20, 25, 34, 53, 43, 32, 54, 51]\n",
    "greater_than_30 = list(filter(lambda x: x>30, numbers))\n",
    "print(greater_than_30)"
   ]
  },
  {
   "cell_type": "markdown",
   "id": "1394e06e",
   "metadata": {},
   "source": [
    "#### ```Filter with lambda() and multiple condition```"
   ]
  },
  {
   "cell_type": "code",
   "execution_count": 6,
   "id": "da95bc1b",
   "metadata": {},
   "outputs": [
    {
     "name": "stdout",
     "output_type": "stream",
     "text": [
      "[34, 32, 54]\n"
     ]
    }
   ],
   "source": [
    "numbers = [10, 13, 20, 25, 34, 53, 43, 32, 54, 51]\n",
    "even_and_greater_than_30 = list(filter(lambda x:x>30 and x%2==0, numbers))\n",
    "print(even_and_greater_than_30)"
   ]
  },
  {
   "cell_type": "markdown",
   "id": "8536e492",
   "metadata": {},
   "source": [
    "#### ```Filter() onto Dictionary```"
   ]
  },
  {
   "cell_type": "code",
   "execution_count": 12,
   "id": "1b7057f9",
   "metadata": {},
   "outputs": [
    {
     "name": "stdout",
     "output_type": "stream",
     "text": [
      "[{'name': 'Aman', 'age': 24}, {'name': 'Raj', 'age': 25}]\n"
     ]
    }
   ],
   "source": [
    "person = [\n",
    "    {\"name\": \"Aman\", \"age\": 24},\n",
    "    {\"name\" : \"Raj\", \"age\" : 25},\n",
    "    {\"name\" : \"Vikram\", \"age\" : 15},\n",
    "    {\"name\" : \"Sunil\", \"age\" : 19}\n",
    "\n",
    "]\n",
    "\n",
    "def age_greater_than_25(person):\n",
    "    return person[\"age\"] > 20\n",
    "\n",
    "print(list(filter(age_greater_than_25, person)))"
   ]
  },
  {
   "cell_type": "markdown",
   "id": "6bcbbd09",
   "metadata": {},
   "source": [
    "#### ```Conclusion:```\n",
    "- The filter() function is a powerful tool for creating iterators that filter\n",
    "items out of an iterables based on a function.\n",
    "- It is commonly used for data cleaning, filtering objects and removing unwanted elements from lists.\n",
    "- By mastering filter(), you can write more concise and efficient code for processing and manipulating collections in Python.🐎👍"
   ]
  }
 ],
 "metadata": {
  "kernelspec": {
   "display_name": "Python 3",
   "language": "python",
   "name": "python3"
  },
  "language_info": {
   "codemirror_mode": {
    "name": "ipython",
    "version": 3
   },
   "file_extension": ".py",
   "mimetype": "text/x-python",
   "name": "python",
   "nbconvert_exporter": "python",
   "pygments_lexer": "ipython3",
   "version": "3.12.0"
  }
 },
 "nbformat": 4,
 "nbformat_minor": 5
}
