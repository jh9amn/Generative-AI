{
 "cells": [
  {
   "cell_type": "markdown",
   "id": "b8201a8b",
   "metadata": {},
   "source": [
    "### ```Convert Temperature```"
   ]
  },
  {
   "cell_type": "code",
   "execution_count": 2,
   "id": "5793b622",
   "metadata": {},
   "outputs": [
    {
     "name": "stdout",
     "output_type": "stream",
     "text": [
      "77.0\n",
      "25.0\n"
     ]
    }
   ],
   "source": [
    "def convert_temperature(temp, unit):\n",
    "    if(unit == 'C'):\n",
    "        return temp * 9/5 + 32      ## Convert Celcius into Forenheight\n",
    "    elif(unit == 'F'):\n",
    "        return (temp-32) * 5/9      ## Convert Forenheight into Celcius\n",
    "    else:\n",
    "        None\n",
    "    \n",
    "print(convert_temperature(25, 'C'))\n",
    "print(convert_temperature(77, 'F'))\n",
    "    \n",
    "    "
   ]
  },
  {
   "cell_type": "markdown",
   "id": "b527d609",
   "metadata": {},
   "source": [
    "### ```Password Strength Checker```"
   ]
  },
  {
   "cell_type": "code",
   "execution_count": null,
   "id": "141d9779",
   "metadata": {},
   "outputs": [
    {
     "name": "stdout",
     "output_type": "stream",
     "text": [
      "True\n",
      "False\n"
     ]
    }
   ],
   "source": [
    "def check_password_strong(password):\n",
    "    \"\"\"Checks if the password is strong or not..\"\"\"\n",
    "    if len(password) < 8:\n",
    "        return False\n",
    "    if not any(char.isdigit() for char in password):\n",
    "        return False\n",
    "    if not any(char.islower() for char in password):\n",
    "        return False\n",
    "    if not any(char.isupper() for char in password):\n",
    "        return False\n",
    "    if not any(char in '!@#$%^&*()_+' for char in password):\n",
    "        return False\n",
    "    return True\n",
    "\n",
    "password = \"Aman@1234\"\n",
    "print(check_password_strong(password))\n",
    "\n",
    "weakPass = \"1324@\"\n",
    "print(check_password_strong(weakPass))"
   ]
  },
  {
   "cell_type": "markdown",
   "id": "896d60bb",
   "metadata": {},
   "source": [
    "### ```Calculate the Total cost of items in a shopping cart```"
   ]
  },
  {
   "cell_type": "code",
   "execution_count": null,
   "id": "8aeb6093",
   "metadata": {},
   "outputs": [
    {
     "name": "stdout",
     "output_type": "stream",
     "text": [
      "6.2\n"
     ]
    }
   ],
   "source": [
    "def calculate_total_cart(cart):\n",
    "    total_cost = 0\n",
    "    for item in cart:\n",
    "        total_cost += (item['price'] * item['quantity'])\n",
    "    return total_cost\n",
    "\n",
    "  \n",
    "## Cart data\n",
    "cart = [\n",
    "    {'name': \"Apple\", 'price' : 0.5, 'quantity' : 4},\n",
    "    {'name': \"Banana\", 'price' : 0.3, 'quantity' : 8},\n",
    "    {'name': \"Kiwi\", 'price' : 0.9, 'quantity' : 2}\n",
    "]\n",
    "\n",
    "## Total cart cost\n",
    "print(calculate_total_cart(cart))"
   ]
  },
  {
   "cell_type": "markdown",
   "id": "005134e7",
   "metadata": {},
   "source": [
    "### ```Check the string is pallindrome```\n"
   ]
  },
  {
   "cell_type": "code",
   "execution_count": 8,
   "id": "1fd729ba",
   "metadata": {},
   "outputs": [
    {
     "name": "stdout",
     "output_type": "stream",
     "text": [
      "True\n",
      "False\n"
     ]
    }
   ],
   "source": [
    "def checkPallin(str):\n",
    "    ## remove the all empty space in string\n",
    "    str = str.lower().replace(\" \",\"\")\n",
    "    ## str[::-1] reverse of the str\n",
    "    return str == str[::-1]\n",
    "\n",
    "str = \"A man a plan a canal Panama\"\n",
    "print(checkPallin(str))\n",
    "print(checkPallin(\"hello\"))"
   ]
  },
  {
   "cell_type": "markdown",
   "id": "ea15678b",
   "metadata": {},
   "source": [
    "### ```Calculate the factorail of a number using recursion```"
   ]
  },
  {
   "cell_type": "code",
   "execution_count": 9,
   "id": "55049830",
   "metadata": {},
   "outputs": [
    {
     "name": "stdout",
     "output_type": "stream",
     "text": [
      "120\n"
     ]
    }
   ],
   "source": [
    "def fact(n):\n",
    "    if n == 0:\n",
    "        return 1\n",
    "    return n * fact(n-1)\n",
    "\n",
    "print(fact(5))"
   ]
  },
  {
   "cell_type": "markdown",
   "id": "2f872b01",
   "metadata": {},
   "source": [
    "### ```A function to read a file and count the frequency of each word```"
   ]
  },
  {
   "cell_type": "code",
   "execution_count": 16,
   "id": "4dcf0f34",
   "metadata": {},
   "outputs": [
    {
     "name": "stdout",
     "output_type": "stream",
     "text": [
      "{'hello': 1, 'world': 1, 'how': 1, 'are': 1, 'you': 1, 'my': 1, 'name': 1, 'is': 2, 'aman': 1, 'and': 4, 'i': 1, 'am': 1, 'learning': 1, 'gen': 1, 'ai': 2, 'deep': 1, 'diving': 1, 'into': 1, 'the': 1, 'field': 1, 'of': 1, 'right': 1, 'now': 1, 'everything': 1, 'good': 1, 'working': 1, 'fine': 1, 'hoping': 1, 'so': 1, 'on': 1, 'too': 1, '🐎🐎': 1}\n"
     ]
    }
   ],
   "source": [
    "def count_word_freq(file_path):\n",
    "    word_count = {}\n",
    "    with open(file_path, 'r') as file:\n",
    "        for line in file:\n",
    "            words = line.split()\n",
    "            for word in words:\n",
    "                word = word.lower().strip('.,!?:;\"\\'')\n",
    "                word_count[word] = word_count.get(word, 0) + 1\n",
    "    return word_count\n",
    "\n",
    "file_path = 'sample.txt'\n",
    "print(count_word_freq(file_path))"
   ]
  },
  {
   "cell_type": "markdown",
   "id": "b1fc53fb",
   "metadata": {},
   "source": [
    "### ``` Validate The Email Address```\n"
   ]
  },
  {
   "cell_type": "code",
   "execution_count": 17,
   "id": "8d80ab7c",
   "metadata": {},
   "outputs": [
    {
     "name": "stdout",
     "output_type": "stream",
     "text": [
      "True\n",
      "False\n"
     ]
    }
   ],
   "source": [
    "import re\n",
    "def is_valid_email(email):\n",
    "    \"\"\"This function checks if the email is valid\"\"\"\n",
    "    pattern = r'^[a-zA-Z0-9_.+-]+@[a-zA-Z0-9-]+\\.[a-zA-Z0-9-.]+$'\n",
    "    return re.match(pattern, email) is not None\n",
    "\n",
    "print(is_valid_email(\"text@example.com\"))\n",
    "print(is_valid_email(\"invalid_email\"))"
   ]
  }
 ],
 "metadata": {
  "kernelspec": {
   "display_name": "Python 3",
   "language": "python",
   "name": "python3"
  },
  "language_info": {
   "codemirror_mode": {
    "name": "ipython",
    "version": 3
   },
   "file_extension": ".py",
   "mimetype": "text/x-python",
   "name": "python",
   "nbconvert_exporter": "python",
   "pygments_lexer": "ipython3",
   "version": "3.12.0"
  }
 },
 "nbformat": 4,
 "nbformat_minor": 5
}
