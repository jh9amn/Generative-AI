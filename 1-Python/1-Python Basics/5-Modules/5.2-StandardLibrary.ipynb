{
 "cells": [
  {
   "cell_type": "markdown",
   "id": "c08c2083",
   "metadata": {},
   "source": [
    "#### ```Standard Library Overview```\n",
    "\n",
    "- Python Standard Library is a vast collection of modules and packages that come bundled with python.\n",
    "- It providing a wide range of functionalities out of the box.\n",
    "- Here's an overview of some of the most commanly used modules and packages in the Python standard Library."
   ]
  },
  {
   "cell_type": "code",
   "execution_count": 2,
   "id": "9dcdac99",
   "metadata": {},
   "outputs": [
    {
     "name": "stdout",
     "output_type": "stream",
     "text": [
      "array('i', [1, 2, 3, 4])\n"
     ]
    }
   ],
   "source": [
    "import array\n",
    "arr = array.array('i', [1,2,3,4])\n",
    "print(arr)"
   ]
  },
  {
   "cell_type": "code",
   "execution_count": 3,
   "id": "c83b9851",
   "metadata": {},
   "outputs": [
    {
     "name": "stdout",
     "output_type": "stream",
     "text": [
      "5.0\n",
      "3.141592653589793\n"
     ]
    }
   ],
   "source": [
    "import math\n",
    "print(math.sqrt(25))\n",
    "print(math.pi)"
   ]
  },
  {
   "cell_type": "code",
   "execution_count": null,
   "id": "e7e009f4",
   "metadata": {},
   "outputs": [
    {
     "name": "stdout",
     "output_type": "stream",
     "text": [
      "15\n",
      "banana\n"
     ]
    }
   ],
   "source": [
    "## Random\n",
    "import random\n",
    "print(random.randint(1,20))                             ## it will give random a integer from 1 to 20\n",
    "print(random.choice(['apple', 'banana', 'cherry']))     ## random select of these list string"
   ]
  },
  {
   "cell_type": "markdown",
   "id": "2e5b5c78",
   "metadata": {},
   "source": [
    "#### ```File and Directory Access```"
   ]
  },
  {
   "cell_type": "code",
   "execution_count": null,
   "id": "94452da9",
   "metadata": {},
   "outputs": [
    {
     "name": "stdout",
     "output_type": "stream",
     "text": [
      "d:\\Gen AI\\Python\\1-Python Basics\\5-Modules\n"
     ]
    }
   ],
   "source": [
    "import os\n",
    "print(os.getcwd())      ## current working directory"
   ]
  },
  {
   "cell_type": "code",
   "execution_count": 10,
   "id": "3e6b2a4f",
   "metadata": {},
   "outputs": [],
   "source": [
    "os.mkdir('test_dir')        ## it will create new folder in current working directory"
   ]
  },
  {
   "cell_type": "code",
   "execution_count": 11,
   "id": "7833aea3",
   "metadata": {},
   "outputs": [
    {
     "data": {
      "text/plain": [
       "'destination.txt'"
      ]
     },
     "execution_count": 11,
     "metadata": {},
     "output_type": "execute_result"
    }
   ],
   "source": [
    "## High level operations on files and collection of files\n",
    "import shutil\n",
    "\n",
    "## it will copy source.txt content into destination.txt file\n",
    "shutil.copyfile('source.txt', \"destination.txt\")"
   ]
  },
  {
   "cell_type": "markdown",
   "id": "17467b85",
   "metadata": {},
   "source": [
    "#### ```Data Serialization```"
   ]
  },
  {
   "cell_type": "code",
   "execution_count": 12,
   "id": "849dc40d",
   "metadata": {},
   "outputs": [
    {
     "name": "stdout",
     "output_type": "stream",
     "text": [
      "{\"name\": \"Aman\", \"age\": 25}\n",
      "<class 'str'>\n",
      "{'name': 'Aman', 'age': 25}\n",
      "<class 'dict'>\n"
     ]
    }
   ],
   "source": [
    "import json\n",
    "data = {'name' : \"Aman\", \"age\" : 25}\n",
    "\n",
    "## convert dictionary data json data\n",
    "json_string = json.dumps(data)\n",
    "print(json_string)\n",
    "print(type(json_string))\n",
    "\n",
    "\n",
    "## parsed json data to dictionary data\n",
    "parsed_json_data = json.loads(json_string)\n",
    "print(parsed_json_data)\n",
    "print(type(parsed_json_data))\n"
   ]
  },
  {
   "cell_type": "markdown",
   "id": "d3ae06f0",
   "metadata": {},
   "source": [
    "#### ```CSV file```"
   ]
  },
  {
   "cell_type": "code",
   "execution_count": 15,
   "id": "878b6c00",
   "metadata": {},
   "outputs": [
    {
     "name": "stdout",
     "output_type": "stream",
     "text": [
      "['name', 'Aman']\n",
      "['age', '24']\n"
     ]
    }
   ],
   "source": [
    "import csv\n",
    "\n",
    "## create a example.csv file and insert these data\n",
    "with open('example.csv', mode='w', newline=\"\") as file:\n",
    "    writer = csv.writer(file)\n",
    "    writer.writerow(['name', \"Aman\"])\n",
    "    writer.writerow(['age', 24])\n",
    "    \n",
    "with open('example.csv', mode='r') as file:\n",
    "    reader = csv.reader(file)\n",
    "    for row in reader:\n",
    "        print(row)"
   ]
  },
  {
   "cell_type": "markdown",
   "id": "75755193",
   "metadata": {},
   "source": [
    "#### ```Date & Time```"
   ]
  },
  {
   "cell_type": "code",
   "execution_count": 17,
   "id": "8bc3ba95",
   "metadata": {},
   "outputs": [
    {
     "name": "stdout",
     "output_type": "stream",
     "text": [
      "2025-09-12 09:47:52.361736\n",
      "2025-09-11 09:47:52.361736\n"
     ]
    }
   ],
   "source": [
    "from datetime import datetime, timedelta\n",
    "\n",
    "## gives todays date and time\n",
    "now_time = datetime.now()\n",
    "print(now_time)\n",
    "\n",
    "## timedelta helps to find back days date and time\n",
    "yesterday_time = now_time - timedelta(days=1)\n",
    "print(yesterday_time)"
   ]
  },
  {
   "cell_type": "markdown",
   "id": "6bb5d049",
   "metadata": {},
   "source": [
    "#### ```Time```"
   ]
  },
  {
   "cell_type": "code",
   "execution_count": 18,
   "id": "0f97224c",
   "metadata": {},
   "outputs": [
    {
     "name": "stdout",
     "output_type": "stream",
     "text": [
      "1757650814.844331\n",
      "1757650816.8536522\n"
     ]
    }
   ],
   "source": [
    "import time\n",
    "print(time.time())\n",
    "\n",
    "time.sleep(2)       ## sleep for 2 sec\n",
    "print(time.time())"
   ]
  },
  {
   "cell_type": "markdown",
   "id": "5be76c5e",
   "metadata": {},
   "source": [
    "#### ```Regular Expression```"
   ]
  },
  {
   "cell_type": "code",
   "execution_count": 21,
   "id": "f0bc7ace",
   "metadata": {},
   "outputs": [
    {
     "name": "stdout",
     "output_type": "stream",
     "text": [
      "1234\n"
     ]
    }
   ],
   "source": [
    "import re\n",
    "\n",
    "pattern = r'\\d+'     ## find the first occurence of digit pattern\n",
    "text = \"There are 1234 apples 3442\"\n",
    "match = re.search(pattern, text)      \n",
    "print(match.group())"
   ]
  }
 ],
 "metadata": {
  "kernelspec": {
   "display_name": "Python 3",
   "language": "python",
   "name": "python3"
  },
  "language_info": {
   "codemirror_mode": {
    "name": "ipython",
    "version": 3
   },
   "file_extension": ".py",
   "mimetype": "text/x-python",
   "name": "python",
   "nbconvert_exporter": "python",
   "pygments_lexer": "ipython3",
   "version": "3.12.0"
  }
 },
 "nbformat": 4,
 "nbformat_minor": 5
}
