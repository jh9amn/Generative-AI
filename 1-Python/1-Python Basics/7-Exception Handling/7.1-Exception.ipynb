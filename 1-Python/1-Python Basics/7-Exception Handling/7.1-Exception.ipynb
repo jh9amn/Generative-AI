{
 "cells": [
  {
   "cell_type": "markdown",
   "id": "7ed296fa",
   "metadata": {},
   "source": [
    "#### ```Understand Exception```\n",
    "- Exception handling in python allows you to handle errors gracefully and take corrective actions without stopping the execution of the program.\n",
    "- This lesson will cover the basics of exception, including how to use try, except, else and finally blocks.\n",
    "\n",
    "#### ```What is Exception ?```\n",
    "- Exceptions are events that disrupt the normal flow of a program.\n",
    "- They occur when an error is encountered during program excution.\n",
    "- Common exception include:\n",
    "    - ZeroDivisionError: Diving by zero\n",
    "    - FileNotFoundError: File not found\n",
    "    - ValueError: Invalid value\n",
    "    - TypeError: Invalid type"
   ]
  },
  {
   "cell_type": "code",
   "execution_count": 1,
   "id": "257755d1",
   "metadata": {},
   "outputs": [
    {
     "ename": "NameError",
     "evalue": "name 'b' is not defined",
     "output_type": "error",
     "traceback": [
      "\u001b[31m---------------------------------------------------------------------------\u001b[39m",
      "\u001b[31mNameError\u001b[39m                                 Traceback (most recent call last)",
      "\u001b[36mCell\u001b[39m\u001b[36m \u001b[39m\u001b[32mIn[1]\u001b[39m\u001b[32m, line 1\u001b[39m\n\u001b[32m----> \u001b[39m\u001b[32m1\u001b[39m a = \u001b[43mb\u001b[49m\n",
      "\u001b[31mNameError\u001b[39m: name 'b' is not defined"
     ]
    }
   ],
   "source": [
    "a = b"
   ]
  },
  {
   "cell_type": "code",
   "execution_count": null,
   "id": "861b97fb",
   "metadata": {},
   "outputs": [
    {
     "name": "stdout",
     "output_type": "stream",
     "text": [
      "name 'b' is not defined\n"
     ]
    }
   ],
   "source": [
    "## Exception try, except, block\n",
    "\n",
    "try:\n",
    "    a = b\n",
    "    \n",
    "\"\"\" Custom message to handle exception \"\"\"\n",
    "# except:\n",
    "#     print(\"The variable is not assigned.\")\n",
    "\n",
    "\"\"\" And actual error message \"\"\"\n",
    "except NameError as ex:\n",
    "    print(ex)"
   ]
  },
  {
   "cell_type": "code",
   "execution_count": 5,
   "id": "1c99da4e",
   "metadata": {},
   "outputs": [
    {
     "ename": "ZeroDivisionError",
     "evalue": "division by zero",
     "output_type": "error",
     "traceback": [
      "\u001b[31m---------------------------------------------------------------------------\u001b[39m",
      "\u001b[31mZeroDivisionError\u001b[39m                         Traceback (most recent call last)",
      "\u001b[36mCell\u001b[39m\u001b[36m \u001b[39m\u001b[32mIn[5]\u001b[39m\u001b[32m, line 1\u001b[39m\n\u001b[32m----> \u001b[39m\u001b[32m1\u001b[39m \u001b[32;43m1\u001b[39;49m\u001b[43m/\u001b[49m\u001b[32;43m0\u001b[39;49m\n",
      "\u001b[31mZeroDivisionError\u001b[39m: division by zero"
     ]
    }
   ],
   "source": [
    "1/0"
   ]
  },
  {
   "cell_type": "code",
   "execution_count": 12,
   "id": "cc62ffe7",
   "metadata": {},
   "outputs": [
    {
     "name": "stdout",
     "output_type": "stream",
     "text": [
      "You are dividing with zero. Change the number zero!\n"
     ]
    }
   ],
   "source": [
    "\"\"\" Zero Division Error \"\"\"\n",
    "try:\n",
    "    result = 1/0\n",
    "    \n",
    "### Custom message to handle error\n",
    "except:\n",
    "    print(\"You are dividing with zero. Change the number zero!\")\n",
    "\n",
    "# except ZeroDivisionError as ex:\n",
    "#     print(ex)\n",
    "    \n"
   ]
  },
  {
   "cell_type": "markdown",
   "id": "48e90cdc",
   "metadata": {},
   "source": [
    "#### ``` Handling Multiple Exception```\n"
   ]
  },
  {
   "cell_type": "code",
   "execution_count": null,
   "id": "7cc77add",
   "metadata": {},
   "outputs": [
    {
     "name": "stdout",
     "output_type": "stream",
     "text": [
      "name 'b' is not defined\n",
      "Main exception got caught here\n"
     ]
    }
   ],
   "source": [
    "try:\n",
    "    result = 1/2\n",
    "    a = b\n",
    "\n",
    "except ZeroDivisionError as ex:\n",
    "    print(ex)\n",
    "    print(\"Please enter the denominator greatert than 0\")\n",
    "except Exception as ex1:\n",
    "    print(ex1)\n",
    "    print(\"Main exception got caught here\")"
   ]
  },
  {
   "cell_type": "code",
   "execution_count": 16,
   "id": "3b165113",
   "metadata": {},
   "outputs": [
    {
     "name": "stdout",
     "output_type": "stream",
     "text": [
      "This is not a valid number.\n"
     ]
    }
   ],
   "source": [
    "try:\n",
    "    num = int(input(\"Enter a number\"))\n",
    "    result = 10/num\n",
    "\n",
    "except ValueError:\n",
    "    print(\"This is not a valid number.\")\n",
    "except ZeroDivisionError:\n",
    "    print(\"Enter denominator greater than 0\")\n",
    "except Exception as ex:\n",
    "    print(ex)"
   ]
  },
  {
   "cell_type": "markdown",
   "id": "cff4fd34",
   "metadata": {},
   "source": [
    "#### ```Else Block```\n",
    "- If exception raised then else block will not excuated.\n",
    "- If there is no exception raised then Else block will excuted."
   ]
  },
  {
   "cell_type": "code",
   "execution_count": 17,
   "id": "3e0fc442",
   "metadata": {},
   "outputs": [
    {
     "name": "stdout",
     "output_type": "stream",
     "text": [
      "No exception, so else block runs\n"
     ]
    }
   ],
   "source": [
    "try:\n",
    "    num = int(input(\"Enter a number\"))\n",
    "    result = 10/num\n",
    "\n",
    "except ValueError:\n",
    "    print(\"This is not a valid number.\")\n",
    "except ZeroDivisionError:\n",
    "    print(\"You cannot divide a number by ZERO\")\n",
    "except Exception as ex:\n",
    "    print(ex)\n",
    "else:\n",
    "    print(\"No exception, so else block runs\")"
   ]
  },
  {
   "cell_type": "markdown",
   "id": "ff5308a8",
   "metadata": {},
   "source": [
    "#### ```Finally Block:```\n",
    "- Wheather Error coming or not, Finally Block will always getting excuted.\n",
    "- UseCase: while connecting to DB, we get exception and we handled it but at the end we need to close the connection, so there we used **FINALLY** block."
   ]
  },
  {
   "cell_type": "code",
   "execution_count": 21,
   "id": "54caf837",
   "metadata": {},
   "outputs": [
    {
     "name": "stdout",
     "output_type": "stream",
     "text": [
      "No exception, so else block runs\n",
      "The result is 0.5\n",
      "Finally Block will always excuted!\n"
     ]
    }
   ],
   "source": [
    "try:\n",
    "    num = int(input(\"Enter a number\"))\n",
    "    result = 10/num\n",
    "\n",
    "except ValueError:\n",
    "    print(\"This is not a valid number.\")\n",
    "except ZeroDivisionError:\n",
    "    print(\"You cannot divide a number by ZERO\")\n",
    "except Exception as ex:\n",
    "    print(ex)\n",
    "else:\n",
    "    print(\"No exception, so else block runs\")\n",
    "    print(f\"The result is {result}\")\n",
    "finally:\n",
    "    print(\"Finally Block will always excuted!\")"
   ]
  },
  {
   "cell_type": "markdown",
   "id": "f2516601",
   "metadata": {},
   "source": [
    "#### ```File handling and Exception handling```"
   ]
  },
  {
   "cell_type": "code",
   "execution_count": 27,
   "id": "1f4ad4bc",
   "metadata": {},
   "outputs": [
    {
     "name": "stdout",
     "output_type": "stream",
     "text": [
      "name 'b' is not defined\n",
      "File is closed.\n"
     ]
    }
   ],
   "source": [
    "try:\n",
    "    file = open('aman.txt', 'r')\n",
    "    content = file.read()\n",
    "    a = b\n",
    "    print(content)\n",
    "\n",
    "except FileNotFoundError:\n",
    "    print(\"The file does not exists\")\n",
    "except Exception as ex:\n",
    "    print(ex)\n",
    "\n",
    "finally:\n",
    "    if 'file' in locals() or not file.closed():\n",
    "        file.close()\n",
    "        print(\"File is closed.\")"
   ]
  }
 ],
 "metadata": {
  "kernelspec": {
   "display_name": "Python 3",
   "language": "python",
   "name": "python3"
  },
  "language_info": {
   "codemirror_mode": {
    "name": "ipython",
    "version": 3
   },
   "file_extension": ".py",
   "mimetype": "text/x-python",
   "name": "python",
   "nbconvert_exporter": "python",
   "pygments_lexer": "ipython3",
   "version": "3.12.0"
  }
 },
 "nbformat": 4,
 "nbformat_minor": 5
}
