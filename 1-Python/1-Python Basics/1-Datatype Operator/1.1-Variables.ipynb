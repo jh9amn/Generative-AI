{
 "cells": [
  {
   "cell_type": "markdown",
   "id": "eed2a284",
   "metadata": {},
   "source": [
    "## Variables\n",
    "\n",
    "Variables are fundamental elements in programming used to store data that can be referenced and manipulated in a program. In python variable are created when you assign a values to them, and they do not need explict declaration to reserve memory space. The declaration happens automatically when you assign a value to a variable.\n",
    "\n",
    "### Topics:\n",
    "\n",
    "- Introduction to variables\n",
    "- Declaring and Assigning variables\n",
    "- Naming Conventions\n",
    "- Understanding Variables Types\n",
    "- Type checking and conversion\n",
    "- Dynamic Typing\n",
    "- Practicle example of common errors\n"
   ]
  },
  {
   "cell_type": "code",
   "execution_count": null,
   "id": "688e6dce",
   "metadata": {},
   "outputs": [],
   "source": [
    "## Naming Conventions\n",
    "## Variable names should be descriptive\n",
    "## They must start with a letter or an underscore (_) abd can be followed by letters, digits, or underscores\n",
    "## variables names case sesnsitive\n",
    "\n",
    "# Valid variable names\n",
    "my_variable = 10\n",
    "_variable2 = 20\n",
    "var3 = 30"
   ]
  },
  {
   "cell_type": "code",
   "execution_count": 3,
   "id": "8a29ddfd",
   "metadata": {},
   "outputs": [],
   "source": [
    "# Invalid variable names \n",
    "# 2age = 24\n",
    "# first-name = \"Aman\"\n",
    "# @name = \"Aman\""
   ]
  },
  {
   "cell_type": "code",
   "execution_count": 4,
   "id": "2ef2c3a8",
   "metadata": {},
   "outputs": [
    {
     "name": "stdout",
     "output_type": "stream",
     "text": [
      "Aman\n",
      "Aj\n"
     ]
    }
   ],
   "source": [
    "## case sensitivity\n",
    "name = \"Aman\"\n",
    "Name = \"Aj\"\n",
    "\n",
    "print(name)  # Output: Aman\n",
    "print(Name)  # Output: Aj"
   ]
  },
  {
   "cell_type": "code",
   "execution_count": 5,
   "id": "c3543946",
   "metadata": {},
   "outputs": [
    {
     "name": "stdout",
     "output_type": "stream",
     "text": [
      "<class 'int'>\n",
      "<class 'float'>\n"
     ]
    }
   ],
   "source": [
    "## Understanding variables types    \n",
    "## Python is dynamically typed language, meaning you don't need to declare the type of a variable when you create it. The interpreter infers the type based on the value assigned to the variable at runtime.\n",
    "x = 10          # Integer\n",
    "y = 3.14        # Float\n",
    "name = \"Aman\"   # String\n",
    "is_active = True # Boolean  \n",
    "\n",
    "print(type(x))         # Output: <class 'int'>\n",
    "print(type(y))         # Output: <class 'float'>            "
   ]
  },
  {
   "cell_type": "code",
   "execution_count": 6,
   "id": "e9ac1df9",
   "metadata": {},
   "outputs": [
    {
     "name": "stdout",
     "output_type": "stream",
     "text": [
      "<class 'str'>\n"
     ]
    }
   ],
   "source": [
    "## Type checking and conversion\n",
    "print(type(name))"
   ]
  },
  {
   "cell_type": "code",
   "execution_count": 8,
   "id": "441f4674",
   "metadata": {},
   "outputs": [
    {
     "name": "stdout",
     "output_type": "stream",
     "text": [
      "<class 'int'>\n",
      "25\n",
      "<class 'str'>\n"
     ]
    }
   ],
   "source": [
    "age = 25\n",
    "print(type(age))\n",
    "\n",
    "# Type conversion\n",
    "age_str = str(age)\n",
    "print(age_str)  # Output: \"25\"\n",
    "print(type(age_str))"
   ]
  },
  {
   "cell_type": "code",
   "execution_count": 9,
   "id": "a4f0a5f4",
   "metadata": {},
   "outputs": [
    {
     "name": "stdout",
     "output_type": "stream",
     "text": [
      "<class 'int'>\n"
     ]
    }
   ],
   "source": [
    "age = \"25\"\n",
    "print(type(int(age)))"
   ]
  },
  {
   "cell_type": "code",
   "execution_count": null,
   "id": "54c7b458",
   "metadata": {},
   "outputs": [
    {
     "ename": "ValueError",
     "evalue": "invalid literal for int() with base 10: 'Aman'",
     "output_type": "error",
     "traceback": [
      "\u001b[31m---------------------------------------------------------------------------\u001b[39m",
      "\u001b[31mValueError\u001b[39m                                Traceback (most recent call last)",
      "\u001b[36mCell\u001b[39m\u001b[36m \u001b[39m\u001b[32mIn[10]\u001b[39m\u001b[32m, line 2\u001b[39m\n\u001b[32m      1\u001b[39m name = \u001b[33m\"\u001b[39m\u001b[33mAman\u001b[39m\u001b[33m\"\u001b[39m\n\u001b[32m----> \u001b[39m\u001b[32m2\u001b[39m \u001b[38;5;28mprint\u001b[39m(\u001b[38;5;28mtype\u001b[39m(\u001b[38;5;28;43mint\u001b[39;49m\u001b[43m(\u001b[49m\u001b[43mname\u001b[49m\u001b[43m)\u001b[49m))  \u001b[38;5;66;03m# This will raise a ValueError because \"Aman\" cannot be converted to an integer\u001b[39;00m\n",
      "\u001b[31mValueError\u001b[39m: invalid literal for int() with base 10: 'Aman'"
     ]
    }
   ],
   "source": [
    "name = \"Aman\"\n",
    "print(type(int(name)))  # This will raise a ValueError because \"Aman\" cannot be converted to an integer"
   ]
  },
  {
   "cell_type": "code",
   "execution_count": 16,
   "id": "6331458d",
   "metadata": {},
   "outputs": [
    {
     "data": {
      "text/plain": [
       "float"
      ]
     },
     "execution_count": 16,
     "metadata": {},
     "output_type": "execute_result"
    }
   ],
   "source": [
    "height  = 5.9\n",
    "type(height)"
   ]
  },
  {
   "cell_type": "code",
   "execution_count": 18,
   "id": "8150d0a3",
   "metadata": {},
   "outputs": [
    {
     "ename": "TypeError",
     "evalue": "'int' object is not callable",
     "output_type": "error",
     "traceback": [
      "\u001b[31m---------------------------------------------------------------------------\u001b[39m",
      "\u001b[31mTypeError\u001b[39m                                 Traceback (most recent call last)",
      "\u001b[36mCell\u001b[39m\u001b[36m \u001b[39m\u001b[32mIn[18]\u001b[39m\u001b[32m, line 1\u001b[39m\n\u001b[32m----> \u001b[39m\u001b[32m1\u001b[39m \u001b[38;5;28;43mfloat\u001b[39;49m\u001b[43m(\u001b[49m\u001b[38;5;28;43mint\u001b[39;49m\u001b[43m(\u001b[49m\u001b[43mheight\u001b[49m\u001b[43m)\u001b[49m\u001b[43m)\u001b[49m\n",
      "\u001b[31mTypeError\u001b[39m: 'int' object is not callable"
     ]
    }
   ],
   "source": [
    "float(int(height))\n"
   ]
  },
  {
   "cell_type": "code",
   "execution_count": 19,
   "id": "e7ee79cf",
   "metadata": {},
   "outputs": [
    {
     "name": "stdout",
     "output_type": "stream",
     "text": [
      "10 <class 'int'>\n",
      "Now I'm a string <class 'str'>\n",
      "3.14 <class 'float'>\n"
     ]
    }
   ],
   "source": [
    "## Dynamic typing\n",
    "## Python allows you to change the type of a variable by reassigning it to a value of a different type.\n",
    "var = 10\n",
    "print(var, type(var))\n",
    "\n",
    "var = \"Now I'm a string\"\n",
    "print(var, type(var))\n",
    "\n",
    "var = 3.14\n",
    "print(var, type(var))"
   ]
  },
  {
   "cell_type": "code",
   "execution_count": 22,
   "id": "0127e7b6",
   "metadata": {},
   "outputs": [
    {
     "name": "stdout",
     "output_type": "stream",
     "text": [
      "66 <class 'str'>\n"
     ]
    }
   ],
   "source": [
    "## input\n",
    "\n",
    "age = input(\"Enter your age: \")     # string input\n",
    "# age = int(input(\"Enter your age: \"))    # integer input\n",
    "\n",
    "print(age, type(age))"
   ]
  },
  {
   "cell_type": "code",
   "execution_count": 33,
   "id": "ce67fb9e",
   "metadata": {},
   "outputs": [
    {
     "name": "stdout",
     "output_type": "stream",
     "text": [
      "Sum : 15.0\n",
      "Difference : 5.0\n",
      "Product : 50.0\n",
      "Quotient : 2.0\n"
     ]
    }
   ],
   "source": [
    "## Simple calculator\n",
    "num1 = float(input(\"Enter first number: \"))\n",
    "num2 = float(input(\"Enter second number: \"))\n",
    "\n",
    "total = num1 + num2\n",
    "difference = num1 - num2\n",
    "product = num1 * num2\n",
    "quotient = num1 / num2\n",
    "\n",
    "print(\"Sum :\", total)\n",
    "print(\"Difference :\", difference)\n",
    "print(\"Product :\", product)\n",
    "print(\"Quotient :\", quotient)\n"
   ]
  }
 ],
 "metadata": {
  "kernelspec": {
   "display_name": "Python 3",
   "language": "python",
   "name": "python3"
  },
  "language_info": {
   "codemirror_mode": {
    "name": "ipython",
    "version": 3
   },
   "file_extension": ".py",
   "mimetype": "text/x-python",
   "name": "python",
   "nbconvert_exporter": "python",
   "pygments_lexer": "ipython3",
   "version": "3.12.0"
  }
 },
 "nbformat": 4,
 "nbformat_minor": 5
}
