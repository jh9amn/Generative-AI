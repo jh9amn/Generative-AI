{
 "cells": [
  {
   "cell_type": "code",
   "execution_count": 13,
   "id": "be927bdf",
   "metadata": {},
   "outputs": [
    {
     "data": {
      "text/plain": [
       "2"
      ]
     },
     "execution_count": 13,
     "metadata": {},
     "output_type": "execute_result"
    }
   ],
   "source": [
    "1+1"
   ]
  },
  {
   "cell_type": "markdown",
   "id": "fb7a6d8e",
   "metadata": {},
   "source": [
    "### Python Example"
   ]
  },
  {
   "cell_type": "code",
   "execution_count": 14,
   "id": "7ed0c806",
   "metadata": {},
   "outputs": [
    {
     "name": "stdout",
     "output_type": "stream",
     "text": [
      "Hello World\n"
     ]
    }
   ],
   "source": [
    "print(\"Hello World\")"
   ]
  },
  {
   "cell_type": "markdown",
   "id": "f93b7ecc",
   "metadata": {},
   "source": [
    "### Indentation\n",
    "Indentation in Python is used to define the structure and hierarchy of the code. Unlike many other programming langauges that use braces {} to delimit blocks of code. Python uses indentatin to determine the grouping of statements. This means that all the statements within a block must be indented at the same level. "
   ]
  },
  {
   "cell_type": "code",
   "execution_count": 15,
   "id": "ec10dce1",
   "metadata": {},
   "outputs": [
    {
     "name": "stdout",
     "output_type": "stream",
     "text": [
      "21\n"
     ]
    }
   ],
   "source": [
    "## Line continuation (\\)\n",
    "\n",
    "a = 1 + 2 + 3 + \\\n",
    "    4 + 5 + 6\n",
    "    \n",
    "print(a)"
   ]
  },
  {
   "cell_type": "code",
   "execution_count": 17,
   "id": "9c079674",
   "metadata": {},
   "outputs": [
    {
     "name": "stdout",
     "output_type": "stream",
     "text": [
      "7 5 12\n"
     ]
    }
   ],
   "source": [
    "## Multiple statements in a single line (;)\n",
    "\n",
    "a = 7; b = 5; c = a + b\n",
    "print(a, b, c)"
   ]
  },
  {
   "cell_type": "code",
   "execution_count": null,
   "id": "8c1fe2cc",
   "metadata": {},
   "outputs": [],
   "source": [
    "## Understand Sementics in python\n",
    "# variable assignment\n",
    "age = 25    ## age is an Integer\n",
    "name = \"Aman\"   ## name is a string\n",
    "height = 5.9    ## height is a float"
   ]
  },
  {
   "cell_type": "code",
   "execution_count": null,
   "id": "42de52cc",
   "metadata": {},
   "outputs": [
    {
     "data": {
      "text/plain": [
       "float"
      ]
     },
     "execution_count": 19,
     "metadata": {},
     "output_type": "execute_result"
    }
   ],
   "source": [
    "type(height)"
   ]
  },
  {
   "cell_type": "code",
   "execution_count": 20,
   "id": "e0a86896",
   "metadata": {},
   "outputs": [
    {
     "data": {
      "text/plain": [
       "str"
      ]
     },
     "execution_count": 20,
     "metadata": {},
     "output_type": "execute_result"
    }
   ],
   "source": [
    "type(name)"
   ]
  },
  {
   "cell_type": "code",
   "execution_count": 21,
   "id": "d00a3782",
   "metadata": {},
   "outputs": [
    {
     "name": "stdout",
     "output_type": "stream",
     "text": [
      "<class 'int'>\n",
      "<class 'str'>\n"
     ]
    }
   ],
   "source": [
    "## Type Inference\n",
    "age = 30\n",
    "print(type(age))\n",
    "age = \"Thirty\"\n",
    "print(type(age))"
   ]
  },
  {
   "cell_type": "code",
   "execution_count": 22,
   "id": "7f2809dd",
   "metadata": {},
   "outputs": [
    {
     "name": "stdout",
     "output_type": "stream",
     "text": [
      "It is true\n",
      "End of if Block\n",
      "outside of if block\n"
     ]
    }
   ],
   "source": [
    "## Code Example of indentation\n",
    "if True:\n",
    "    print(\"It is true\")\n",
    "    if False:\n",
    "        print(\"It is false\")\n",
    "    print(\"End of if Block\")\n",
    "print(\"outside of if block\")"
   ]
  }
 ],
 "metadata": {
  "kernelspec": {
   "display_name": "Python 3",
   "language": "python",
   "name": "python3"
  },
  "language_info": {
   "codemirror_mode": {
    "name": "ipython",
    "version": 3
   },
   "file_extension": ".py",
   "mimetype": "text/x-python",
   "name": "python",
   "nbconvert_exporter": "python",
   "pygments_lexer": "ipython3",
   "version": "3.12.0"
  }
 },
 "nbformat": 4,
 "nbformat_minor": 5
}
