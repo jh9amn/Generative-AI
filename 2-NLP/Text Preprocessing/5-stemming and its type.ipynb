{
 "cells": [
  {
   "cell_type": "markdown",
   "id": "efcda04a-2857-496f-8ae7-e73491aba390",
   "metadata": {},
   "source": [
    "## Stemming\n",
    "Stemming is the process of reducing a word to its word stem that affixes to suffixes and prefixes or to the roots of words as a lemma.\n",
    "Stemming is important in natural language understanding (NLU) and natural language processing (NLP).\n",
    "The stem may not always be a valid word in the language, but it represents the core part of the word that carries the main meaning.\n",
    "\n",
    "#### Why Stemming?\n",
    "- To normalize words so that different forms of a word are treated the same.\n",
    "Example: connect, connected, connecting → \"connect\"\n",
    "\n",
    "- Helps in tasks like search engines, information retrieval, and text mining where matching concepts is more important than exact word forms.\n",
    "\n",
    "\n",
    "#### **Common Stemming Algorithms:**\n",
    "\n",
    "- Porter Stemmer\n",
    "\n",
    "Most widely used, rule-based, chops suffixes.\n",
    "\n",
    "Example: \"studies\" → \"studi\", \"running\" → \"run\"\n",
    "\n",
    "- Snowball Stemmer (Porter2)\n",
    "\n",
    "An improved and more aggressive version of the Porter stemmer.\n",
    "\n",
    "- Lancaster Stemmer\n",
    "\n",
    "Very aggressive, sometimes over-stems.\n",
    "\n",
    "Example: \"maximum\" → \"maxim\", \"running\" → \"run\""
   ]
  },
  {
   "cell_type": "code",
   "execution_count": 7,
   "id": "04cd3369-bc89-43cc-8504-47a46cafffcf",
   "metadata": {},
   "outputs": [],
   "source": [
    "## Classification Problem\n",
    "## Comments of products is a positive review or negative review\n",
    "## Reviews -----> eating, eat, eaten, going, gone, go\n",
    "\n",
    "words = ['eating', 'eats', 'eaten', 'writing', 'programming', 'program', 'history', 'finally', 'finalize'];"
   ]
  },
  {
   "cell_type": "code",
   "execution_count": 8,
   "id": "25105529-b5b3-4845-bcc2-c266b8752a65",
   "metadata": {},
   "outputs": [
    {
     "name": "stdout",
     "output_type": "stream",
     "text": [
      "eating ----> eat\n",
      "eats ----> eat\n",
      "eaten ----> eaten\n",
      "writing ----> write\n",
      "programming ----> program\n",
      "program ----> program\n",
      "history ----> histori\n",
      "finally ----> final\n",
      "finalize ----> final\n"
     ]
    }
   ],
   "source": [
    "from nltk.stem import PorterStemmer\n",
    "stemming = PorterStemmer()\n",
    "\n",
    "for word in words:\n",
    "    print(word + \" ----> \" + stemming.stem(word))"
   ]
  },
  {
   "cell_type": "code",
   "execution_count": 9,
   "id": "549426d8-44bb-46d7-bfee-2aa4245fb663",
   "metadata": {},
   "outputs": [
    {
     "data": {
      "text/plain": [
       "'congratul'"
      ]
     },
     "execution_count": 9,
     "metadata": {},
     "output_type": "execute_result"
    }
   ],
   "source": [
    "stemming.stem('congratulation')"
   ]
  },
  {
   "cell_type": "markdown",
   "id": "17c57121-ade5-4379-9b42-cc3583e87a04",
   "metadata": {},
   "source": [
    "##### When Stemming is applies you may not get exact correct meaning."
   ]
  },
  {
   "cell_type": "markdown",
   "id": "415183ff-6a34-461e-8d76-b7bc9159c080",
   "metadata": {},
   "source": [
    "# RegexpStemmer Class\n",
    "NLTK has RegexpStemmer class with the help of which we can easily implement Regular Expression Stemmer algorithms. It basically takes a single regular expression and remove prefix or suffix that matches the expression. Let us see an example."
   ]
  },
  {
   "cell_type": "code",
   "execution_count": null,
   "id": "ba7ce88b-b86a-4342-a230-76fe4f58cd51",
   "metadata": {},
   "outputs": [],
   "source": [
    "stemming = PorterStemmer()"
   ]
  },
  {
   "cell_type": "code",
   "execution_count": null,
   "id": "e28666ea-cba5-429d-9bd1-c1efb06d5d97",
   "metadata": {},
   "outputs": [],
   "source": []
  }
 ],
 "metadata": {
  "kernelspec": {
   "display_name": "Python 3 (ipykernel)",
   "language": "python",
   "name": "python3"
  },
  "language_info": {
   "codemirror_mode": {
    "name": "ipython",
    "version": 3
   },
   "file_extension": ".py",
   "mimetype": "text/x-python",
   "name": "python",
   "nbconvert_exporter": "python",
   "pygments_lexer": "ipython3",
   "version": "3.13.5"
  }
 },
 "nbformat": 4,
 "nbformat_minor": 5
}
