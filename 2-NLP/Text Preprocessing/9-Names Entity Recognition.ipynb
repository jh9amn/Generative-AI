{
 "cells": [
  {
   "cell_type": "markdown",
   "id": "34cb35d8-e59c-4b67-9024-79f4bec2e412",
   "metadata": {},
   "source": [
    "#### ```Name Entity Recognition```"
   ]
  },
  {
   "cell_type": "code",
   "execution_count": 1,
   "id": "27f44350-f1a4-4ca4-8b14-679e363e4c17",
   "metadata": {},
   "outputs": [
    {
     "data": {
      "text/plain": [
       "'\\n\\nPerson Eg: Aman Kumar\\nPlace or Location Eg: Indida\\nDate Eg: October, 07-10-2025\\nTime Eg: 14:02\\nMoney Eg: 1 million dollar\\nOrganization Eg: iNeuron Private Limited\\nPercent Eg: 20%, twenty percent\\n\\n'"
      ]
     },
     "execution_count": 1,
     "metadata": {},
     "output_type": "execute_result"
    }
   ],
   "source": [
    "sentence = \"The Effiel Tower was built from 1887 bto 1889 by French engineer Gustave Eiffel, whose company specilized in building metal frameworks and structures.\"\n",
    "\n",
    "\"\"\"\n",
    "\n",
    "Person Eg: Aman Kumar\n",
    "Place or Location Eg: Indida\n",
    "Date Eg: October, 07-10-2025\n",
    "Time Eg: 14:02\n",
    "Money Eg: 1 million dollar\n",
    "Organization Eg: iNeuron Private Limited\n",
    "Percent Eg: 20%, twenty percent\n",
    "\n",
    "\"\"\""
   ]
  },
  {
   "cell_type": "code",
   "execution_count": 2,
   "id": "f04a2f65-b30c-4a83-a387-8b766da97498",
   "metadata": {},
   "outputs": [],
   "source": [
    "sentence = \"The Effiel Tower was built from 1887 bto 1889 by French engineer Gustave Eiffel, whose company specilized in building metal frameworks and structures.\"\n"
   ]
  },
  {
   "cell_type": "code",
   "execution_count": 4,
   "id": "ae896213-4dfe-4493-8d85-0788d8ff01e6",
   "metadata": {},
   "outputs": [],
   "source": [
    "import nltk \n",
    "words = nltk.word_tokenize(sentence)"
   ]
  },
  {
   "cell_type": "code",
   "execution_count": 6,
   "id": "06884216-afd2-487e-97ec-2bbd4786e258",
   "metadata": {},
   "outputs": [],
   "source": [
    "tag_elements = nltk.pos_tag(words)"
   ]
  },
  {
   "cell_type": "code",
   "execution_count": 8,
   "id": "29f62d84-d288-4e46-a5a8-dfe7b81db114",
   "metadata": {},
   "outputs": [
    {
     "name": "stderr",
     "output_type": "stream",
     "text": [
      "[nltk_data] Downloading package maxent_ne_chunker_tab to\n",
      "[nltk_data]     C:\\Users\\amank\\AppData\\Roaming\\nltk_data...\n",
      "[nltk_data]   Unzipping chunkers\\maxent_ne_chunker_tab.zip.\n"
     ]
    },
    {
     "data": {
      "text/plain": [
       "True"
      ]
     },
     "execution_count": 8,
     "metadata": {},
     "output_type": "execute_result"
    }
   ],
   "source": [
    "nltk.download('maxent_ne_chunker_tab')"
   ]
  },
  {
   "cell_type": "code",
   "execution_count": 10,
   "id": "bb1c5165-f830-4bea-bc7b-e2b848cab13c",
   "metadata": {},
   "outputs": [
    {
     "name": "stderr",
     "output_type": "stream",
     "text": [
      "[nltk_data] Downloading package words to\n",
      "[nltk_data]     C:\\Users\\amank\\AppData\\Roaming\\nltk_data...\n",
      "[nltk_data]   Unzipping corpora\\words.zip.\n"
     ]
    },
    {
     "data": {
      "text/plain": [
       "True"
      ]
     },
     "execution_count": 10,
     "metadata": {},
     "output_type": "execute_result"
    }
   ],
   "source": [
    "nltk.download('words')"
   ]
  },
  {
   "cell_type": "code",
   "execution_count": null,
   "id": "e9eb9c7b-1b1c-4645-bbc8-094723cbda1c",
   "metadata": {},
   "outputs": [],
   "source": [
    "nltk.ne_chunk(tag_elements).draw()"
   ]
  },
  {
   "cell_type": "code",
   "execution_count": null,
   "id": "706afd9d-4368-4dc6-96f6-587f3163cf9d",
   "metadata": {},
   "outputs": [],
   "source": []
  }
 ],
 "metadata": {
  "kernelspec": {
   "display_name": "Python 3 (ipykernel)",
   "language": "python",
   "name": "python3"
  },
  "language_info": {
   "codemirror_mode": {
    "name": "ipython",
    "version": 3
   },
   "file_extension": ".py",
   "mimetype": "text/x-python",
   "name": "python",
   "nbconvert_exporter": "python",
   "pygments_lexer": "ipython3",
   "version": "3.13.5"
  }
 },
 "nbformat": 4,
 "nbformat_minor": 5
}
